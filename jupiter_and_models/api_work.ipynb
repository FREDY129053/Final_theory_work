{
 "cells": [
  {
   "cell_type": "markdown",
   "metadata": {},
   "source": [
    "## Импорт библиотек"
   ]
  },
  {
   "cell_type": "code",
   "execution_count": 1,
   "metadata": {},
   "outputs": [],
   "source": [
    "import requests\n",
    "import psycopg2\n",
    "import datetime"
   ]
  },
  {
   "cell_type": "code",
   "execution_count": 5,
   "metadata": {},
   "outputs": [],
   "source": [
    "api_key = '61O5P07NNP5BYSU2'# API ключ(по факту влияет IP)\n",
    "# Выбранные компании\n",
    "companies = {\n",
    "  'IBM': 'International Business Machines Corp',\n",
    "  'YNDX': 'Yandex',\n",
    "  'MIME': 'Mimecast Ltd'\n",
    "}\n",
    "\n",
    "id_key, limit = 0, 0  # Вспомогательные переменные\n",
    "# Подключение к БД, которое в Docker на порту 5000\n",
    "connection = psycopg2.connect(\n",
    "  user=\"postgres\", password=\"129053\", host=\"localhost\", port=\"5000\", database=\"data_mart\")\n",
    "cursor = connection.cursor()\n",
    "# Проход по всем символам выбранных компаний\n",
    "for symbol in list(companies.keys()):\n",
    "  # Запрос с параметрами\n",
    "  url = f\"https://www.alphavantage.co/query?function=TIME_SERIES_DAILY&symbol={symbol}&outputsize=full&apikey={api_key}\"\n",
    "  \n",
    "  response = requests.get(url).json()  # Ответ в виде JSON\n",
    "  data = response['Time Series (Daily)']  # Выбираем нужные данные\n",
    "  # проход по этим интервалам\n",
    "  for j in data.keys():\n",
    "    # Запрос в БД\n",
    "    query = f'INSERT INTO companies_data (\"Date_point\", \"Name\", \"Open\", \"High\", \"Low\", \"Close\", \"Volume\") VALUES (%s, %s, %s, %s, %s, %s, %s);'\n",
    "    # Параметры получаем для конкретного промежутка \n",
    "    date_time = datetime.datetime.strptime(j, '%Y-%m-%d')\n",
    "    name = companies[symbol]\n",
    "    open = float(data[j]['1. open'])\n",
    "    high = float(data[j]['2. high'])\n",
    "    low = float(data[j]['3. low'])\n",
    "    close = float(data[j]['4. close'])\n",
    "    volume = float(data[j]['5. volume'])\n",
    "    cursor.execute(query, (date_time, name, open, high, low, close, volume))  # Выполнение запроса\n",
    "  connection.commit()  # Занос изменений в БД\n",
    "      "
   ]
  }
 ],
 "metadata": {
  "kernelspec": {
   "display_name": "venv",
   "language": "python",
   "name": "python3"
  },
  "language_info": {
   "codemirror_mode": {
    "name": "ipython",
    "version": 3
   },
   "file_extension": ".py",
   "mimetype": "text/x-python",
   "name": "python",
   "nbconvert_exporter": "python",
   "pygments_lexer": "ipython3",
   "version": "3.10.2"
  }
 },
 "nbformat": 4,
 "nbformat_minor": 2
}
