{
  "nbformat": 4,
  "nbformat_minor": 0,
  "metadata": {
    "colab": {
      "provenance": [],
      "gpuType": "V28",
      "authorship_tag": "ABX9TyNmrs3iC3TaBvihkWRirIfC",
      "include_colab_link": true
    },
    "kernelspec": {
      "name": "python3",
      "display_name": "Python 3"
    },
    "language_info": {
      "name": "python"
    },
    "accelerator": "TPU"
  },
  "cells": [
    {
      "cell_type": "markdown",
      "metadata": {
        "id": "view-in-github",
        "colab_type": "text"
      },
      "source": [
        "<a href=\"https://colab.research.google.com/github/FREDY129053/Final_theory_work/blob/main/training_model.ipynb\" target=\"_parent\"><img src=\"https://colab.research.google.com/assets/colab-badge.svg\" alt=\"Open In Colab\"/></a>"
      ]
    },
    {
      "cell_type": "markdown",
      "source": [
        "## Обучение модель для предсказания акций IBM, Yandex, MIME"
      ],
      "metadata": {
        "id": "ejFZdAXMbj5a"
      }
    },
    {
      "cell_type": "markdown",
      "source": [
        "## Импорт библиотек"
      ],
      "metadata": {
        "id": "SzA71_X-bqvT"
      }
    },
    {
      "cell_type": "code",
      "execution_count": 57,
      "metadata": {
        "id": "F2NXNqLcq1J1"
      },
      "outputs": [],
      "source": [
        "import pandas as pd\n",
        "import numpy as np\n",
        "import matplotlib.pyplot as plt\n",
        "\n",
        "from sklearn.preprocessing import StandardScaler\n",
        "from tensorflow.keras.models import Sequential\n",
        "from tensorflow.keras.layers import Dense, Dropout, LSTM"
      ]
    },
    {
      "cell_type": "markdown",
      "source": [
        "## Работа с датасетом, полученным из БД"
      ],
      "metadata": {
        "id": "5luVGCZpbtf6"
      }
    },
    {
      "cell_type": "code",
      "source": [
        "# df = pd.read_csv('/content/ibm_data.csv')\n",
        "# df = pd.read_csv('/content/yandex_data.csv')\n",
        "df = pd.read_csv('/content/mime_data.csv')"
      ],
      "metadata": {
        "id": "qWGR2nunujXo"
      },
      "execution_count": 95,
      "outputs": []
    },
    {
      "cell_type": "code",
      "source": [
        "df['Date_point'] = pd.to_datetime(df['Date_point'])"
      ],
      "metadata": {
        "id": "R0F3aCw9ursI"
      },
      "execution_count": 96,
      "outputs": []
    },
    {
      "cell_type": "code",
      "source": [
        "df.head(5)"
      ],
      "metadata": {
        "colab": {
          "base_uri": "https://localhost:8080/",
          "height": 206
        },
        "id": "LAtlJa2RGMQK",
        "outputId": "c8f2364e-92f3-4ca3-f818-0e05faca31e9"
      },
      "execution_count": 97,
      "outputs": [
        {
          "output_type": "execute_result",
          "data": {
            "text/plain": [
              "  Date_point          Name   Open   High      Low  Close    Volume\n",
              "0 2018-12-31  Mimecast Ltd  33.70  34.00  33.2300  33.63  192189.0\n",
              "1 2018-12-28  Mimecast Ltd  33.15  33.80  31.7300  33.32  266871.0\n",
              "2 2018-12-27  Mimecast Ltd  31.92  32.78  31.4900  32.70  266509.0\n",
              "3 2018-12-26  Mimecast Ltd  31.27  32.55  31.2700  32.51  404624.0\n",
              "4 2018-12-24  Mimecast Ltd  29.68  31.07  29.6647  30.87  327169.0"
            ],
            "text/html": [
              "\n",
              "  <div id=\"df-a16efe09-d813-4bbe-84d8-0caf920be8ad\" class=\"colab-df-container\">\n",
              "    <div>\n",
              "<style scoped>\n",
              "    .dataframe tbody tr th:only-of-type {\n",
              "        vertical-align: middle;\n",
              "    }\n",
              "\n",
              "    .dataframe tbody tr th {\n",
              "        vertical-align: top;\n",
              "    }\n",
              "\n",
              "    .dataframe thead th {\n",
              "        text-align: right;\n",
              "    }\n",
              "</style>\n",
              "<table border=\"1\" class=\"dataframe\">\n",
              "  <thead>\n",
              "    <tr style=\"text-align: right;\">\n",
              "      <th></th>\n",
              "      <th>Date_point</th>\n",
              "      <th>Name</th>\n",
              "      <th>Open</th>\n",
              "      <th>High</th>\n",
              "      <th>Low</th>\n",
              "      <th>Close</th>\n",
              "      <th>Volume</th>\n",
              "    </tr>\n",
              "  </thead>\n",
              "  <tbody>\n",
              "    <tr>\n",
              "      <th>0</th>\n",
              "      <td>2018-12-31</td>\n",
              "      <td>Mimecast Ltd</td>\n",
              "      <td>33.70</td>\n",
              "      <td>34.00</td>\n",
              "      <td>33.2300</td>\n",
              "      <td>33.63</td>\n",
              "      <td>192189.0</td>\n",
              "    </tr>\n",
              "    <tr>\n",
              "      <th>1</th>\n",
              "      <td>2018-12-28</td>\n",
              "      <td>Mimecast Ltd</td>\n",
              "      <td>33.15</td>\n",
              "      <td>33.80</td>\n",
              "      <td>31.7300</td>\n",
              "      <td>33.32</td>\n",
              "      <td>266871.0</td>\n",
              "    </tr>\n",
              "    <tr>\n",
              "      <th>2</th>\n",
              "      <td>2018-12-27</td>\n",
              "      <td>Mimecast Ltd</td>\n",
              "      <td>31.92</td>\n",
              "      <td>32.78</td>\n",
              "      <td>31.4900</td>\n",
              "      <td>32.70</td>\n",
              "      <td>266509.0</td>\n",
              "    </tr>\n",
              "    <tr>\n",
              "      <th>3</th>\n",
              "      <td>2018-12-26</td>\n",
              "      <td>Mimecast Ltd</td>\n",
              "      <td>31.27</td>\n",
              "      <td>32.55</td>\n",
              "      <td>31.2700</td>\n",
              "      <td>32.51</td>\n",
              "      <td>404624.0</td>\n",
              "    </tr>\n",
              "    <tr>\n",
              "      <th>4</th>\n",
              "      <td>2018-12-24</td>\n",
              "      <td>Mimecast Ltd</td>\n",
              "      <td>29.68</td>\n",
              "      <td>31.07</td>\n",
              "      <td>29.6647</td>\n",
              "      <td>30.87</td>\n",
              "      <td>327169.0</td>\n",
              "    </tr>\n",
              "  </tbody>\n",
              "</table>\n",
              "</div>\n",
              "    <div class=\"colab-df-buttons\">\n",
              "\n",
              "  <div class=\"colab-df-container\">\n",
              "    <button class=\"colab-df-convert\" onclick=\"convertToInteractive('df-a16efe09-d813-4bbe-84d8-0caf920be8ad')\"\n",
              "            title=\"Convert this dataframe to an interactive table.\"\n",
              "            style=\"display:none;\">\n",
              "\n",
              "  <svg xmlns=\"http://www.w3.org/2000/svg\" height=\"24px\" viewBox=\"0 -960 960 960\">\n",
              "    <path d=\"M120-120v-720h720v720H120Zm60-500h600v-160H180v160Zm220 220h160v-160H400v160Zm0 220h160v-160H400v160ZM180-400h160v-160H180v160Zm440 0h160v-160H620v160ZM180-180h160v-160H180v160Zm440 0h160v-160H620v160Z\"/>\n",
              "  </svg>\n",
              "    </button>\n",
              "\n",
              "  <style>\n",
              "    .colab-df-container {\n",
              "      display:flex;\n",
              "      gap: 12px;\n",
              "    }\n",
              "\n",
              "    .colab-df-convert {\n",
              "      background-color: #E8F0FE;\n",
              "      border: none;\n",
              "      border-radius: 50%;\n",
              "      cursor: pointer;\n",
              "      display: none;\n",
              "      fill: #1967D2;\n",
              "      height: 32px;\n",
              "      padding: 0 0 0 0;\n",
              "      width: 32px;\n",
              "    }\n",
              "\n",
              "    .colab-df-convert:hover {\n",
              "      background-color: #E2EBFA;\n",
              "      box-shadow: 0px 1px 2px rgba(60, 64, 67, 0.3), 0px 1px 3px 1px rgba(60, 64, 67, 0.15);\n",
              "      fill: #174EA6;\n",
              "    }\n",
              "\n",
              "    .colab-df-buttons div {\n",
              "      margin-bottom: 4px;\n",
              "    }\n",
              "\n",
              "    [theme=dark] .colab-df-convert {\n",
              "      background-color: #3B4455;\n",
              "      fill: #D2E3FC;\n",
              "    }\n",
              "\n",
              "    [theme=dark] .colab-df-convert:hover {\n",
              "      background-color: #434B5C;\n",
              "      box-shadow: 0px 1px 3px 1px rgba(0, 0, 0, 0.15);\n",
              "      filter: drop-shadow(0px 1px 2px rgba(0, 0, 0, 0.3));\n",
              "      fill: #FFFFFF;\n",
              "    }\n",
              "  </style>\n",
              "\n",
              "    <script>\n",
              "      const buttonEl =\n",
              "        document.querySelector('#df-a16efe09-d813-4bbe-84d8-0caf920be8ad button.colab-df-convert');\n",
              "      buttonEl.style.display =\n",
              "        google.colab.kernel.accessAllowed ? 'block' : 'none';\n",
              "\n",
              "      async function convertToInteractive(key) {\n",
              "        const element = document.querySelector('#df-a16efe09-d813-4bbe-84d8-0caf920be8ad');\n",
              "        const dataTable =\n",
              "          await google.colab.kernel.invokeFunction('convertToInteractive',\n",
              "                                                    [key], {});\n",
              "        if (!dataTable) return;\n",
              "\n",
              "        const docLinkHtml = 'Like what you see? Visit the ' +\n",
              "          '<a target=\"_blank\" href=https://colab.research.google.com/notebooks/data_table.ipynb>data table notebook</a>'\n",
              "          + ' to learn more about interactive tables.';\n",
              "        element.innerHTML = '';\n",
              "        dataTable['output_type'] = 'display_data';\n",
              "        await google.colab.output.renderOutput(dataTable, element);\n",
              "        const docLink = document.createElement('div');\n",
              "        docLink.innerHTML = docLinkHtml;\n",
              "        element.appendChild(docLink);\n",
              "      }\n",
              "    </script>\n",
              "  </div>\n",
              "\n",
              "\n",
              "<div id=\"df-940d1bb0-e22d-447f-b37b-8ff86f7056a6\">\n",
              "  <button class=\"colab-df-quickchart\" onclick=\"quickchart('df-940d1bb0-e22d-447f-b37b-8ff86f7056a6')\"\n",
              "            title=\"Suggest charts\"\n",
              "            style=\"display:none;\">\n",
              "\n",
              "<svg xmlns=\"http://www.w3.org/2000/svg\" height=\"24px\"viewBox=\"0 0 24 24\"\n",
              "     width=\"24px\">\n",
              "    <g>\n",
              "        <path d=\"M19 3H5c-1.1 0-2 .9-2 2v14c0 1.1.9 2 2 2h14c1.1 0 2-.9 2-2V5c0-1.1-.9-2-2-2zM9 17H7v-7h2v7zm4 0h-2V7h2v10zm4 0h-2v-4h2v4z\"/>\n",
              "    </g>\n",
              "</svg>\n",
              "  </button>\n",
              "\n",
              "<style>\n",
              "  .colab-df-quickchart {\n",
              "      --bg-color: #E8F0FE;\n",
              "      --fill-color: #1967D2;\n",
              "      --hover-bg-color: #E2EBFA;\n",
              "      --hover-fill-color: #174EA6;\n",
              "      --disabled-fill-color: #AAA;\n",
              "      --disabled-bg-color: #DDD;\n",
              "  }\n",
              "\n",
              "  [theme=dark] .colab-df-quickchart {\n",
              "      --bg-color: #3B4455;\n",
              "      --fill-color: #D2E3FC;\n",
              "      --hover-bg-color: #434B5C;\n",
              "      --hover-fill-color: #FFFFFF;\n",
              "      --disabled-bg-color: #3B4455;\n",
              "      --disabled-fill-color: #666;\n",
              "  }\n",
              "\n",
              "  .colab-df-quickchart {\n",
              "    background-color: var(--bg-color);\n",
              "    border: none;\n",
              "    border-radius: 50%;\n",
              "    cursor: pointer;\n",
              "    display: none;\n",
              "    fill: var(--fill-color);\n",
              "    height: 32px;\n",
              "    padding: 0;\n",
              "    width: 32px;\n",
              "  }\n",
              "\n",
              "  .colab-df-quickchart:hover {\n",
              "    background-color: var(--hover-bg-color);\n",
              "    box-shadow: 0 1px 2px rgba(60, 64, 67, 0.3), 0 1px 3px 1px rgba(60, 64, 67, 0.15);\n",
              "    fill: var(--button-hover-fill-color);\n",
              "  }\n",
              "\n",
              "  .colab-df-quickchart-complete:disabled,\n",
              "  .colab-df-quickchart-complete:disabled:hover {\n",
              "    background-color: var(--disabled-bg-color);\n",
              "    fill: var(--disabled-fill-color);\n",
              "    box-shadow: none;\n",
              "  }\n",
              "\n",
              "  .colab-df-spinner {\n",
              "    border: 2px solid var(--fill-color);\n",
              "    border-color: transparent;\n",
              "    border-bottom-color: var(--fill-color);\n",
              "    animation:\n",
              "      spin 1s steps(1) infinite;\n",
              "  }\n",
              "\n",
              "  @keyframes spin {\n",
              "    0% {\n",
              "      border-color: transparent;\n",
              "      border-bottom-color: var(--fill-color);\n",
              "      border-left-color: var(--fill-color);\n",
              "    }\n",
              "    20% {\n",
              "      border-color: transparent;\n",
              "      border-left-color: var(--fill-color);\n",
              "      border-top-color: var(--fill-color);\n",
              "    }\n",
              "    30% {\n",
              "      border-color: transparent;\n",
              "      border-left-color: var(--fill-color);\n",
              "      border-top-color: var(--fill-color);\n",
              "      border-right-color: var(--fill-color);\n",
              "    }\n",
              "    40% {\n",
              "      border-color: transparent;\n",
              "      border-right-color: var(--fill-color);\n",
              "      border-top-color: var(--fill-color);\n",
              "    }\n",
              "    60% {\n",
              "      border-color: transparent;\n",
              "      border-right-color: var(--fill-color);\n",
              "    }\n",
              "    80% {\n",
              "      border-color: transparent;\n",
              "      border-right-color: var(--fill-color);\n",
              "      border-bottom-color: var(--fill-color);\n",
              "    }\n",
              "    90% {\n",
              "      border-color: transparent;\n",
              "      border-bottom-color: var(--fill-color);\n",
              "    }\n",
              "  }\n",
              "</style>\n",
              "\n",
              "  <script>\n",
              "    async function quickchart(key) {\n",
              "      const quickchartButtonEl =\n",
              "        document.querySelector('#' + key + ' button');\n",
              "      quickchartButtonEl.disabled = true;  // To prevent multiple clicks.\n",
              "      quickchartButtonEl.classList.add('colab-df-spinner');\n",
              "      try {\n",
              "        const charts = await google.colab.kernel.invokeFunction(\n",
              "            'suggestCharts', [key], {});\n",
              "      } catch (error) {\n",
              "        console.error('Error during call to suggestCharts:', error);\n",
              "      }\n",
              "      quickchartButtonEl.classList.remove('colab-df-spinner');\n",
              "      quickchartButtonEl.classList.add('colab-df-quickchart-complete');\n",
              "    }\n",
              "    (() => {\n",
              "      let quickchartButtonEl =\n",
              "        document.querySelector('#df-940d1bb0-e22d-447f-b37b-8ff86f7056a6 button');\n",
              "      quickchartButtonEl.style.display =\n",
              "        google.colab.kernel.accessAllowed ? 'block' : 'none';\n",
              "    })();\n",
              "  </script>\n",
              "</div>\n",
              "    </div>\n",
              "  </div>\n"
            ],
            "application/vnd.google.colaboratory.intrinsic+json": {
              "type": "dataframe",
              "variable_name": "df",
              "summary": "{\n  \"name\": \"df\",\n  \"rows\": 783,\n  \"fields\": [\n    {\n      \"column\": \"Date_point\",\n      \"properties\": {\n        \"dtype\": \"date\",\n        \"min\": \"2015-11-19 00:00:00\",\n        \"max\": \"2018-12-31 00:00:00\",\n        \"num_unique_values\": 783,\n        \"samples\": [\n          \"2016-08-16 00:00:00\",\n          \"2016-08-26 00:00:00\",\n          \"2018-03-05 00:00:00\"\n        ],\n        \"semantic_type\": \"\",\n        \"description\": \"\"\n      }\n    },\n    {\n      \"column\": \"Name\",\n      \"properties\": {\n        \"dtype\": \"category\",\n        \"num_unique_values\": 1,\n        \"samples\": [\n          \"Mimecast Ltd\"\n        ],\n        \"semantic_type\": \"\",\n        \"description\": \"\"\n      }\n    },\n    {\n      \"column\": \"Open\",\n      \"properties\": {\n        \"dtype\": \"number\",\n        \"std\": 11.083544746689526,\n        \"min\": 6.3,\n        \"max\": 46.03,\n        \"num_unique_values\": 657,\n        \"samples\": [\n          6.3\n        ],\n        \"semantic_type\": \"\",\n        \"description\": \"\"\n      }\n    },\n    {\n      \"column\": \"High\",\n      \"properties\": {\n        \"dtype\": \"number\",\n        \"std\": 11.201101791839644,\n        \"min\": 7.0327,\n        \"max\": 46.87,\n        \"num_unique_values\": 686,\n        \"samples\": [\n          28.79\n        ],\n        \"semantic_type\": \"\",\n        \"description\": \"\"\n      }\n    },\n    {\n      \"column\": \"Low\",\n      \"properties\": {\n        \"dtype\": \"number\",\n        \"std\": 10.913624859267156,\n        \"min\": 6.01,\n        \"max\": 45.01,\n        \"num_unique_values\": 678,\n        \"samples\": [\n          9.15\n        ],\n        \"semantic_type\": \"\",\n        \"description\": \"\"\n      }\n    },\n    {\n      \"column\": \"Close\",\n      \"properties\": {\n        \"dtype\": \"number\",\n        \"std\": 11.071742758311363,\n        \"min\": 6.2,\n        \"max\": 45.94,\n        \"num_unique_values\": 672,\n        \"samples\": [\n          26.2\n        ],\n        \"semantic_type\": \"\",\n        \"description\": \"\"\n      }\n    },\n    {\n      \"column\": \"Volume\",\n      \"properties\": {\n        \"dtype\": \"number\",\n        \"std\": 349400.2794834319,\n        \"min\": 9799.0,\n        \"max\": 7131458.0,\n        \"num_unique_values\": 782,\n        \"samples\": [\n          330240.0\n        ],\n        \"semantic_type\": \"\",\n        \"description\": \"\"\n      }\n    }\n  ]\n}"
            }
          },
          "metadata": {},
          "execution_count": 97
        }
      ]
    },
    {
      "cell_type": "code",
      "source": [
        "df.tail(5)"
      ],
      "metadata": {
        "colab": {
          "base_uri": "https://localhost:8080/",
          "height": 206
        },
        "id": "5sUmLUJAH3Jm",
        "outputId": "731f46d2-2bd0-4e12-8f47-439fcc501540"
      },
      "execution_count": 98,
      "outputs": [
        {
          "output_type": "execute_result",
          "data": {
            "text/plain": [
              "    Date_point          Name   Open   High    Low  Close     Volume\n",
              "778 2015-11-25  Mimecast Ltd  10.06  10.35  10.06  10.18   175959.0\n",
              "779 2015-11-24  Mimecast Ltd  10.05  10.40  10.00  10.21   117354.0\n",
              "780 2015-11-23  Mimecast Ltd  10.45  10.45  10.00  10.22   296011.0\n",
              "781 2015-11-20  Mimecast Ltd  10.50  10.65  10.00  10.15   630591.0\n",
              "782 2015-11-19  Mimecast Ltd  11.00  11.99   9.72  10.10  7131458.0"
            ],
            "text/html": [
              "\n",
              "  <div id=\"df-c2d22e8f-f1d7-4e9a-9a94-ac46fbd87344\" class=\"colab-df-container\">\n",
              "    <div>\n",
              "<style scoped>\n",
              "    .dataframe tbody tr th:only-of-type {\n",
              "        vertical-align: middle;\n",
              "    }\n",
              "\n",
              "    .dataframe tbody tr th {\n",
              "        vertical-align: top;\n",
              "    }\n",
              "\n",
              "    .dataframe thead th {\n",
              "        text-align: right;\n",
              "    }\n",
              "</style>\n",
              "<table border=\"1\" class=\"dataframe\">\n",
              "  <thead>\n",
              "    <tr style=\"text-align: right;\">\n",
              "      <th></th>\n",
              "      <th>Date_point</th>\n",
              "      <th>Name</th>\n",
              "      <th>Open</th>\n",
              "      <th>High</th>\n",
              "      <th>Low</th>\n",
              "      <th>Close</th>\n",
              "      <th>Volume</th>\n",
              "    </tr>\n",
              "  </thead>\n",
              "  <tbody>\n",
              "    <tr>\n",
              "      <th>778</th>\n",
              "      <td>2015-11-25</td>\n",
              "      <td>Mimecast Ltd</td>\n",
              "      <td>10.06</td>\n",
              "      <td>10.35</td>\n",
              "      <td>10.06</td>\n",
              "      <td>10.18</td>\n",
              "      <td>175959.0</td>\n",
              "    </tr>\n",
              "    <tr>\n",
              "      <th>779</th>\n",
              "      <td>2015-11-24</td>\n",
              "      <td>Mimecast Ltd</td>\n",
              "      <td>10.05</td>\n",
              "      <td>10.40</td>\n",
              "      <td>10.00</td>\n",
              "      <td>10.21</td>\n",
              "      <td>117354.0</td>\n",
              "    </tr>\n",
              "    <tr>\n",
              "      <th>780</th>\n",
              "      <td>2015-11-23</td>\n",
              "      <td>Mimecast Ltd</td>\n",
              "      <td>10.45</td>\n",
              "      <td>10.45</td>\n",
              "      <td>10.00</td>\n",
              "      <td>10.22</td>\n",
              "      <td>296011.0</td>\n",
              "    </tr>\n",
              "    <tr>\n",
              "      <th>781</th>\n",
              "      <td>2015-11-20</td>\n",
              "      <td>Mimecast Ltd</td>\n",
              "      <td>10.50</td>\n",
              "      <td>10.65</td>\n",
              "      <td>10.00</td>\n",
              "      <td>10.15</td>\n",
              "      <td>630591.0</td>\n",
              "    </tr>\n",
              "    <tr>\n",
              "      <th>782</th>\n",
              "      <td>2015-11-19</td>\n",
              "      <td>Mimecast Ltd</td>\n",
              "      <td>11.00</td>\n",
              "      <td>11.99</td>\n",
              "      <td>9.72</td>\n",
              "      <td>10.10</td>\n",
              "      <td>7131458.0</td>\n",
              "    </tr>\n",
              "  </tbody>\n",
              "</table>\n",
              "</div>\n",
              "    <div class=\"colab-df-buttons\">\n",
              "\n",
              "  <div class=\"colab-df-container\">\n",
              "    <button class=\"colab-df-convert\" onclick=\"convertToInteractive('df-c2d22e8f-f1d7-4e9a-9a94-ac46fbd87344')\"\n",
              "            title=\"Convert this dataframe to an interactive table.\"\n",
              "            style=\"display:none;\">\n",
              "\n",
              "  <svg xmlns=\"http://www.w3.org/2000/svg\" height=\"24px\" viewBox=\"0 -960 960 960\">\n",
              "    <path d=\"M120-120v-720h720v720H120Zm60-500h600v-160H180v160Zm220 220h160v-160H400v160Zm0 220h160v-160H400v160ZM180-400h160v-160H180v160Zm440 0h160v-160H620v160ZM180-180h160v-160H180v160Zm440 0h160v-160H620v160Z\"/>\n",
              "  </svg>\n",
              "    </button>\n",
              "\n",
              "  <style>\n",
              "    .colab-df-container {\n",
              "      display:flex;\n",
              "      gap: 12px;\n",
              "    }\n",
              "\n",
              "    .colab-df-convert {\n",
              "      background-color: #E8F0FE;\n",
              "      border: none;\n",
              "      border-radius: 50%;\n",
              "      cursor: pointer;\n",
              "      display: none;\n",
              "      fill: #1967D2;\n",
              "      height: 32px;\n",
              "      padding: 0 0 0 0;\n",
              "      width: 32px;\n",
              "    }\n",
              "\n",
              "    .colab-df-convert:hover {\n",
              "      background-color: #E2EBFA;\n",
              "      box-shadow: 0px 1px 2px rgba(60, 64, 67, 0.3), 0px 1px 3px 1px rgba(60, 64, 67, 0.15);\n",
              "      fill: #174EA6;\n",
              "    }\n",
              "\n",
              "    .colab-df-buttons div {\n",
              "      margin-bottom: 4px;\n",
              "    }\n",
              "\n",
              "    [theme=dark] .colab-df-convert {\n",
              "      background-color: #3B4455;\n",
              "      fill: #D2E3FC;\n",
              "    }\n",
              "\n",
              "    [theme=dark] .colab-df-convert:hover {\n",
              "      background-color: #434B5C;\n",
              "      box-shadow: 0px 1px 3px 1px rgba(0, 0, 0, 0.15);\n",
              "      filter: drop-shadow(0px 1px 2px rgba(0, 0, 0, 0.3));\n",
              "      fill: #FFFFFF;\n",
              "    }\n",
              "  </style>\n",
              "\n",
              "    <script>\n",
              "      const buttonEl =\n",
              "        document.querySelector('#df-c2d22e8f-f1d7-4e9a-9a94-ac46fbd87344 button.colab-df-convert');\n",
              "      buttonEl.style.display =\n",
              "        google.colab.kernel.accessAllowed ? 'block' : 'none';\n",
              "\n",
              "      async function convertToInteractive(key) {\n",
              "        const element = document.querySelector('#df-c2d22e8f-f1d7-4e9a-9a94-ac46fbd87344');\n",
              "        const dataTable =\n",
              "          await google.colab.kernel.invokeFunction('convertToInteractive',\n",
              "                                                    [key], {});\n",
              "        if (!dataTable) return;\n",
              "\n",
              "        const docLinkHtml = 'Like what you see? Visit the ' +\n",
              "          '<a target=\"_blank\" href=https://colab.research.google.com/notebooks/data_table.ipynb>data table notebook</a>'\n",
              "          + ' to learn more about interactive tables.';\n",
              "        element.innerHTML = '';\n",
              "        dataTable['output_type'] = 'display_data';\n",
              "        await google.colab.output.renderOutput(dataTable, element);\n",
              "        const docLink = document.createElement('div');\n",
              "        docLink.innerHTML = docLinkHtml;\n",
              "        element.appendChild(docLink);\n",
              "      }\n",
              "    </script>\n",
              "  </div>\n",
              "\n",
              "\n",
              "<div id=\"df-9c8e04b9-48c8-4a67-9202-5b63e8618552\">\n",
              "  <button class=\"colab-df-quickchart\" onclick=\"quickchart('df-9c8e04b9-48c8-4a67-9202-5b63e8618552')\"\n",
              "            title=\"Suggest charts\"\n",
              "            style=\"display:none;\">\n",
              "\n",
              "<svg xmlns=\"http://www.w3.org/2000/svg\" height=\"24px\"viewBox=\"0 0 24 24\"\n",
              "     width=\"24px\">\n",
              "    <g>\n",
              "        <path d=\"M19 3H5c-1.1 0-2 .9-2 2v14c0 1.1.9 2 2 2h14c1.1 0 2-.9 2-2V5c0-1.1-.9-2-2-2zM9 17H7v-7h2v7zm4 0h-2V7h2v10zm4 0h-2v-4h2v4z\"/>\n",
              "    </g>\n",
              "</svg>\n",
              "  </button>\n",
              "\n",
              "<style>\n",
              "  .colab-df-quickchart {\n",
              "      --bg-color: #E8F0FE;\n",
              "      --fill-color: #1967D2;\n",
              "      --hover-bg-color: #E2EBFA;\n",
              "      --hover-fill-color: #174EA6;\n",
              "      --disabled-fill-color: #AAA;\n",
              "      --disabled-bg-color: #DDD;\n",
              "  }\n",
              "\n",
              "  [theme=dark] .colab-df-quickchart {\n",
              "      --bg-color: #3B4455;\n",
              "      --fill-color: #D2E3FC;\n",
              "      --hover-bg-color: #434B5C;\n",
              "      --hover-fill-color: #FFFFFF;\n",
              "      --disabled-bg-color: #3B4455;\n",
              "      --disabled-fill-color: #666;\n",
              "  }\n",
              "\n",
              "  .colab-df-quickchart {\n",
              "    background-color: var(--bg-color);\n",
              "    border: none;\n",
              "    border-radius: 50%;\n",
              "    cursor: pointer;\n",
              "    display: none;\n",
              "    fill: var(--fill-color);\n",
              "    height: 32px;\n",
              "    padding: 0;\n",
              "    width: 32px;\n",
              "  }\n",
              "\n",
              "  .colab-df-quickchart:hover {\n",
              "    background-color: var(--hover-bg-color);\n",
              "    box-shadow: 0 1px 2px rgba(60, 64, 67, 0.3), 0 1px 3px 1px rgba(60, 64, 67, 0.15);\n",
              "    fill: var(--button-hover-fill-color);\n",
              "  }\n",
              "\n",
              "  .colab-df-quickchart-complete:disabled,\n",
              "  .colab-df-quickchart-complete:disabled:hover {\n",
              "    background-color: var(--disabled-bg-color);\n",
              "    fill: var(--disabled-fill-color);\n",
              "    box-shadow: none;\n",
              "  }\n",
              "\n",
              "  .colab-df-spinner {\n",
              "    border: 2px solid var(--fill-color);\n",
              "    border-color: transparent;\n",
              "    border-bottom-color: var(--fill-color);\n",
              "    animation:\n",
              "      spin 1s steps(1) infinite;\n",
              "  }\n",
              "\n",
              "  @keyframes spin {\n",
              "    0% {\n",
              "      border-color: transparent;\n",
              "      border-bottom-color: var(--fill-color);\n",
              "      border-left-color: var(--fill-color);\n",
              "    }\n",
              "    20% {\n",
              "      border-color: transparent;\n",
              "      border-left-color: var(--fill-color);\n",
              "      border-top-color: var(--fill-color);\n",
              "    }\n",
              "    30% {\n",
              "      border-color: transparent;\n",
              "      border-left-color: var(--fill-color);\n",
              "      border-top-color: var(--fill-color);\n",
              "      border-right-color: var(--fill-color);\n",
              "    }\n",
              "    40% {\n",
              "      border-color: transparent;\n",
              "      border-right-color: var(--fill-color);\n",
              "      border-top-color: var(--fill-color);\n",
              "    }\n",
              "    60% {\n",
              "      border-color: transparent;\n",
              "      border-right-color: var(--fill-color);\n",
              "    }\n",
              "    80% {\n",
              "      border-color: transparent;\n",
              "      border-right-color: var(--fill-color);\n",
              "      border-bottom-color: var(--fill-color);\n",
              "    }\n",
              "    90% {\n",
              "      border-color: transparent;\n",
              "      border-bottom-color: var(--fill-color);\n",
              "    }\n",
              "  }\n",
              "</style>\n",
              "\n",
              "  <script>\n",
              "    async function quickchart(key) {\n",
              "      const quickchartButtonEl =\n",
              "        document.querySelector('#' + key + ' button');\n",
              "      quickchartButtonEl.disabled = true;  // To prevent multiple clicks.\n",
              "      quickchartButtonEl.classList.add('colab-df-spinner');\n",
              "      try {\n",
              "        const charts = await google.colab.kernel.invokeFunction(\n",
              "            'suggestCharts', [key], {});\n",
              "      } catch (error) {\n",
              "        console.error('Error during call to suggestCharts:', error);\n",
              "      }\n",
              "      quickchartButtonEl.classList.remove('colab-df-spinner');\n",
              "      quickchartButtonEl.classList.add('colab-df-quickchart-complete');\n",
              "    }\n",
              "    (() => {\n",
              "      let quickchartButtonEl =\n",
              "        document.querySelector('#df-9c8e04b9-48c8-4a67-9202-5b63e8618552 button');\n",
              "      quickchartButtonEl.style.display =\n",
              "        google.colab.kernel.accessAllowed ? 'block' : 'none';\n",
              "    })();\n",
              "  </script>\n",
              "</div>\n",
              "    </div>\n",
              "  </div>\n"
            ],
            "application/vnd.google.colaboratory.intrinsic+json": {
              "type": "dataframe",
              "summary": "{\n  \"name\": \"df\",\n  \"rows\": 5,\n  \"fields\": [\n    {\n      \"column\": \"Date_point\",\n      \"properties\": {\n        \"dtype\": \"date\",\n        \"min\": \"2015-11-19 00:00:00\",\n        \"max\": \"2015-11-25 00:00:00\",\n        \"num_unique_values\": 5,\n        \"samples\": [\n          \"2015-11-24 00:00:00\",\n          \"2015-11-19 00:00:00\",\n          \"2015-11-23 00:00:00\"\n        ],\n        \"semantic_type\": \"\",\n        \"description\": \"\"\n      }\n    },\n    {\n      \"column\": \"Name\",\n      \"properties\": {\n        \"dtype\": \"category\",\n        \"num_unique_values\": 1,\n        \"samples\": [\n          \"Mimecast Ltd\"\n        ],\n        \"semantic_type\": \"\",\n        \"description\": \"\"\n      }\n    },\n    {\n      \"column\": \"Open\",\n      \"properties\": {\n        \"dtype\": \"number\",\n        \"std\": 0.390474070842098,\n        \"min\": 10.05,\n        \"max\": 11.0,\n        \"num_unique_values\": 5,\n        \"samples\": [\n          10.05\n        ],\n        \"semantic_type\": \"\",\n        \"description\": \"\"\n      }\n    },\n    {\n      \"column\": \"High\",\n      \"properties\": {\n        \"dtype\": \"number\",\n        \"std\": 0.6925460273512514,\n        \"min\": 10.35,\n        \"max\": 11.99,\n        \"num_unique_values\": 5,\n        \"samples\": [\n          10.4\n        ],\n        \"semantic_type\": \"\",\n        \"description\": \"\"\n      }\n    },\n    {\n      \"column\": \"Low\",\n      \"properties\": {\n        \"dtype\": \"number\",\n        \"std\": 0.1344618905117727,\n        \"min\": 9.72,\n        \"max\": 10.06,\n        \"num_unique_values\": 3,\n        \"samples\": [\n          10.06\n        ],\n        \"semantic_type\": \"\",\n        \"description\": \"\"\n      }\n    },\n    {\n      \"column\": \"Close\",\n      \"properties\": {\n        \"dtype\": \"number\",\n        \"std\": 0.04868264577855275,\n        \"min\": 10.1,\n        \"max\": 10.22,\n        \"num_unique_values\": 5,\n        \"samples\": [\n          10.21\n        ],\n        \"semantic_type\": \"\",\n        \"description\": \"\"\n      }\n    },\n    {\n      \"column\": \"Volume\",\n      \"properties\": {\n        \"dtype\": \"number\",\n        \"std\": 3059354.836445799,\n        \"min\": 117354.0,\n        \"max\": 7131458.0,\n        \"num_unique_values\": 5,\n        \"samples\": [\n          117354.0\n        ],\n        \"semantic_type\": \"\",\n        \"description\": \"\"\n      }\n    }\n  ]\n}"
            }
          },
          "metadata": {},
          "execution_count": 98
        }
      ]
    },
    {
      "cell_type": "code",
      "source": [
        "copy_df = df[['Open', 'High', 'Low', 'Close', 'Volume']]\n",
        "copy_df.shape"
      ],
      "metadata": {
        "colab": {
          "base_uri": "https://localhost:8080/"
        },
        "id": "27OKpAhP80ov",
        "outputId": "528b73b6-9032-481e-8571-fc100c690b30"
      },
      "execution_count": 99,
      "outputs": [
        {
          "output_type": "execute_result",
          "data": {
            "text/plain": [
              "(783, 5)"
            ]
          },
          "metadata": {},
          "execution_count": 99
        }
      ]
    },
    {
      "cell_type": "code",
      "source": [
        "np_ds_scaled = np.reshape(copy_df, (copy_df.shape[0], copy_df.shape[1]))\n",
        "np_ds_scaled = np_ds_scaled[::-1]\n",
        "np_ds_scaled"
      ],
      "metadata": {
        "colab": {
          "base_uri": "https://localhost:8080/"
        },
        "id": "PPSPqEHFqcut",
        "outputId": "7cfd606f-fc7c-4f16-cf0b-cb2abc33b791"
      },
      "execution_count": 100,
      "outputs": [
        {
          "output_type": "execute_result",
          "data": {
            "text/plain": [
              "array([[1.100000e+01, 1.199000e+01, 9.720000e+00, 1.010000e+01,\n",
              "        7.131458e+06],\n",
              "       [1.050000e+01, 1.065000e+01, 1.000000e+01, 1.015000e+01,\n",
              "        6.305910e+05],\n",
              "       [1.045000e+01, 1.045000e+01, 1.000000e+01, 1.022000e+01,\n",
              "        2.960110e+05],\n",
              "       ...,\n",
              "       [3.192000e+01, 3.278000e+01, 3.149000e+01, 3.270000e+01,\n",
              "        2.665090e+05],\n",
              "       [3.315000e+01, 3.380000e+01, 3.173000e+01, 3.332000e+01,\n",
              "        2.668710e+05],\n",
              "       [3.370000e+01, 3.400000e+01, 3.323000e+01, 3.363000e+01,\n",
              "        1.921890e+05]])"
            ]
          },
          "metadata": {},
          "execution_count": 100
        }
      ]
    },
    {
      "cell_type": "markdown",
      "source": [
        "## Обучение модели"
      ],
      "metadata": {
        "id": "TyGP9-Tzb3UI"
      }
    },
    {
      "cell_type": "markdown",
      "source": [
        "### Подготовка к обучению"
      ],
      "metadata": {
        "id": "I9h1nehZb6g9"
      }
    },
    {
      "cell_type": "markdown",
      "source": [
        "#### Функция формирования датасета."
      ],
      "metadata": {
        "id": "8FGA1Tm8vCUj"
      }
    },
    {
      "cell_type": "markdown",
      "source": [
        "##### Основа функции была взята с сайта https://machinelearningmastery.com/how-to-develop-lstm-models-for-time-series-forecasting/#:~:text=learn%20this%20mapping.-,Vector%20Output%20Model,-Like%20other%20types\n",
        "\n",
        "Там предсказание для одномерного массива, но функция была чуть переделана.\n",
        "Результат функции из гайда:\n",
        "- Входные данные: [10, 20, 30, 40, 50, 60, 70, 80, 90]\n",
        "- Параметры: n_steps_in, n_steps_out = 3, 2\n",
        "- X = [[10, 20, 30], [20, 30, 40], [30, 40, 50], [40, 50, 60], [50, 60, 70]]\n",
        "- y = [[40, 50], [50, 60], [60, 70], [70, 80], [80, 90]]\n",
        "\n",
        "Функция работает так же, но для пятимерного массива, т.к. 5 признаков"
      ],
      "metadata": {
        "id": "mObURgY2wBmE"
      }
    },
    {
      "cell_type": "code",
      "source": [
        "def split_sequence(sequence, n_steps_in, n_steps_out):\n",
        "  X, y = list(), list()\n",
        "  for i in range(len(sequence)):\n",
        "      # find the end of this pattern\n",
        "      end_ix = i + n_steps_in\n",
        "      out_end_ix = end_ix + n_steps_out\n",
        "      # check if we are beyond the sequence\n",
        "      if out_end_ix > len(sequence):\n",
        "        break\n",
        "      # gather input and output parts of the pattern\n",
        "      seq_x, seq_y = sequence[i:end_ix], sequence[end_ix:out_end_ix]\n",
        "      X.append(seq_x)\n",
        "      tmp = [i[-2] for i in seq_y]\n",
        "      y.append(tmp)\n",
        "  return np.array(X), np.array(y)"
      ],
      "metadata": {
        "id": "iCkaidrzi414"
      },
      "execution_count": 101,
      "outputs": []
    },
    {
      "cell_type": "markdown",
      "source": [
        "#### Разбиение данных и нормализация(чуть сложно, тк массив в итоге 3х мерный, а не 2х мерный, как требует MimMaxScaler)"
      ],
      "metadata": {
        "id": "7Z7LIhWkvu_e"
      }
    },
    {
      "cell_type": "code",
      "source": [
        "n_steps_in, n_steps_out = 40, 90\n",
        "x, y = split_sequence(np_ds_scaled, n_steps_in, n_steps_out)"
      ],
      "metadata": {
        "id": "8f6vPaIti_vH"
      },
      "execution_count": 102,
      "outputs": []
    },
    {
      "cell_type": "code",
      "source": [
        "x = x.reshape((x.shape[0], x.shape[1], 5))"
      ],
      "metadata": {
        "id": "M29gjZJXjRdv"
      },
      "execution_count": 103,
      "outputs": []
    },
    {
      "cell_type": "code",
      "source": [
        "splitlimit = int(len(x)*0.8)\n",
        "x_train, x_test = x[:splitlimit], x[splitlimit:]\n",
        "y_train, y_test = y[:splitlimit], y[splitlimit:]"
      ],
      "metadata": {
        "id": "fEpEIGI0kdMv"
      },
      "execution_count": 104,
      "outputs": []
    },
    {
      "cell_type": "code",
      "source": [
        "from sklearn.preprocessing import MinMaxScaler\n",
        "\n",
        "normalizer1 = MinMaxScaler(feature_range=(0,1))\n",
        "normalizer2 = MinMaxScaler(feature_range=(0,1))\n",
        "\n",
        "x_train_tmp = x_train.reshape(-1, x_train.shape[-1])\n",
        "x_test_tmp = x_test.reshape(-1, x_test.shape[-1])\n",
        "\n",
        "x_train_scaled = normalizer1.fit_transform(x_train_tmp)\n",
        "x_test_scaled = normalizer2.fit_transform(x_test_tmp)\n",
        "\n",
        "x_train = x_train_scaled.reshape(x_train.shape)\n",
        "x_test = x_test_scaled.reshape(x_test.shape)"
      ],
      "metadata": {
        "id": "4SekEvt_qkq1"
      },
      "execution_count": 105,
      "outputs": []
    },
    {
      "cell_type": "markdown",
      "source": [
        "### Обучение модели"
      ],
      "metadata": {
        "id": "Ih0ai_kDb-AB"
      }
    },
    {
      "cell_type": "markdown",
      "source": [
        "#### Модель для IBM"
      ],
      "metadata": {
        "id": "bUoPENM_cWDm"
      }
    },
    {
      "cell_type": "code",
      "source": [
        "model = Sequential()\n",
        "\n",
        "model.add(LSTM(250, activation='relu', return_sequences=True, input_shape=(n_steps_in, 5)))\n",
        "model.add(Dropout(0.2))\n",
        "\n",
        "model.add(LSTM(200, activation='relu', return_sequences=True))\n",
        "model.add(Dropout(0.3))\n",
        "\n",
        "model.add(LSTM(200, activation='relu', return_sequences=True))\n",
        "model.add(Dropout(0.2))\n",
        "\n",
        "model.add(LSTM(150, activation='relu', return_sequences=True))\n",
        "model.add(Dropout(0.2))\n",
        "\n",
        "model.add(LSTM(100, activation='relu'))\n",
        "model.add(Dropout(0.2))\n",
        "\n",
        "model.add(Dense(units=n_steps_out, activation='linear'))\n",
        "\n",
        "model.compile(optimizer='adam', loss='mse')\n",
        "\n",
        "history = model.fit(x_train, y_train, batch_size=15, epochs=60, shuffle=True, validation_split = 0.2)"
      ],
      "metadata": {
        "colab": {
          "base_uri": "https://localhost:8080/"
        },
        "collapsed": true,
        "id": "DX_lysv1jhkv",
        "outputId": "2af5c4bc-6524-42c9-f799-965823206c76"
      },
      "execution_count": 72,
      "outputs": [
        {
          "output_type": "stream",
          "name": "stdout",
          "text": [
            "Epoch 1/60\n",
            "201/201 [==============================] - 34s 145ms/step - loss: 4160893184.0000 - val_loss: 56909.0078\n",
            "Epoch 2/60\n",
            "201/201 [==============================] - 29s 147ms/step - loss: 2612.6907 - val_loss: 384.1785\n",
            "Epoch 3/60\n",
            "201/201 [==============================] - 29s 146ms/step - loss: 760.0545 - val_loss: 494.2050\n",
            "Epoch 4/60\n",
            "201/201 [==============================] - 29s 143ms/step - loss: 620.5889 - val_loss: 309.6855\n",
            "Epoch 5/60\n",
            "201/201 [==============================] - 29s 145ms/step - loss: 631.0406 - val_loss: 657.6804\n",
            "Epoch 6/60\n",
            "201/201 [==============================] - 29s 145ms/step - loss: 614.8704 - val_loss: 1051.4255\n",
            "Epoch 7/60\n",
            "201/201 [==============================] - 29s 144ms/step - loss: 677.5818 - val_loss: 208.1014\n",
            "Epoch 8/60\n",
            "201/201 [==============================] - 29s 146ms/step - loss: 590.1005 - val_loss: 385.7183\n",
            "Epoch 9/60\n",
            "201/201 [==============================] - 29s 146ms/step - loss: 556.2628 - val_loss: 218.1200\n",
            "Epoch 10/60\n",
            "201/201 [==============================] - 28s 142ms/step - loss: 585.2321 - val_loss: 1159.6553\n",
            "Epoch 11/60\n",
            "201/201 [==============================] - 29s 144ms/step - loss: 576.9210 - val_loss: 459.9662\n",
            "Epoch 12/60\n",
            "201/201 [==============================] - 29s 146ms/step - loss: 559.8172 - val_loss: 275.7134\n",
            "Epoch 13/60\n",
            "201/201 [==============================] - 29s 144ms/step - loss: 576.0457 - val_loss: 309.2448\n",
            "Epoch 14/60\n",
            "201/201 [==============================] - 30s 147ms/step - loss: 585.3306 - val_loss: 314.2956\n",
            "Epoch 15/60\n",
            "201/201 [==============================] - 29s 144ms/step - loss: 555.6967 - val_loss: 261.3828\n",
            "Epoch 16/60\n",
            "201/201 [==============================] - 29s 143ms/step - loss: 615.0366 - val_loss: 565.7007\n",
            "Epoch 17/60\n",
            "201/201 [==============================] - 29s 147ms/step - loss: 552.9633 - val_loss: 517.6354\n",
            "Epoch 18/60\n",
            "201/201 [==============================] - 29s 145ms/step - loss: 540.5652 - val_loss: 415.4558\n",
            "Epoch 19/60\n",
            "201/201 [==============================] - 30s 149ms/step - loss: 525.7529 - val_loss: 325.8267\n",
            "Epoch 20/60\n",
            "201/201 [==============================] - 29s 144ms/step - loss: 530.5345 - val_loss: 367.4644\n",
            "Epoch 21/60\n",
            "201/201 [==============================] - 29s 145ms/step - loss: 539.2529 - val_loss: 278.6731\n",
            "Epoch 22/60\n",
            "201/201 [==============================] - 29s 145ms/step - loss: 488.2274 - val_loss: 307.2859\n",
            "Epoch 23/60\n",
            "201/201 [==============================] - 29s 145ms/step - loss: 487.9245 - val_loss: 751.1238\n",
            "Epoch 24/60\n",
            "201/201 [==============================] - 29s 145ms/step - loss: 538.9289 - val_loss: 291.4438\n",
            "Epoch 25/60\n",
            "201/201 [==============================] - 29s 146ms/step - loss: 490.1428 - val_loss: 366.4729\n",
            "Epoch 26/60\n",
            "201/201 [==============================] - 29s 144ms/step - loss: 500.2484 - val_loss: 418.3283\n",
            "Epoch 27/60\n",
            "201/201 [==============================] - 29s 142ms/step - loss: 492.9081 - val_loss: 322.0451\n",
            "Epoch 28/60\n",
            "201/201 [==============================] - 29s 145ms/step - loss: 505.4640 - val_loss: 825.2637\n",
            "Epoch 29/60\n",
            "201/201 [==============================] - 28s 141ms/step - loss: 558.3103 - val_loss: 354.6801\n",
            "Epoch 30/60\n",
            "201/201 [==============================] - 30s 149ms/step - loss: 503.1276 - val_loss: 363.4999\n",
            "Epoch 31/60\n",
            "201/201 [==============================] - 29s 146ms/step - loss: 546.1536 - val_loss: 726.6949\n",
            "Epoch 32/60\n",
            "201/201 [==============================] - 28s 142ms/step - loss: 492.9767 - val_loss: 414.6569\n",
            "Epoch 33/60\n",
            "201/201 [==============================] - 29s 146ms/step - loss: 492.1270 - val_loss: 236.9258\n",
            "Epoch 34/60\n",
            "201/201 [==============================] - 29s 145ms/step - loss: 487.9778 - val_loss: 285.1858\n",
            "Epoch 35/60\n",
            "201/201 [==============================] - 29s 142ms/step - loss: 488.6454 - val_loss: 230.5580\n",
            "Epoch 36/60\n",
            "201/201 [==============================] - 29s 143ms/step - loss: 499.4072 - val_loss: 271.6305\n",
            "Epoch 37/60\n",
            "201/201 [==============================] - 29s 145ms/step - loss: 503.3754 - val_loss: 280.4209\n",
            "Epoch 38/60\n",
            "201/201 [==============================] - 29s 143ms/step - loss: 472.2651 - val_loss: 220.5471\n",
            "Epoch 39/60\n",
            "201/201 [==============================] - 29s 145ms/step - loss: 471.4307 - val_loss: 292.3257\n",
            "Epoch 40/60\n",
            "201/201 [==============================] - 30s 148ms/step - loss: 474.6148 - val_loss: 425.5788\n",
            "Epoch 41/60\n",
            "201/201 [==============================] - 30s 147ms/step - loss: 482.7591 - val_loss: 1079.0664\n",
            "Epoch 42/60\n",
            "201/201 [==============================] - 30s 147ms/step - loss: 481.0107 - val_loss: 227.1805\n",
            "Epoch 43/60\n",
            "201/201 [==============================] - 29s 146ms/step - loss: 556.8018 - val_loss: 418.3152\n",
            "Epoch 44/60\n",
            "201/201 [==============================] - 29s 144ms/step - loss: 461.6802 - val_loss: 279.0106\n",
            "Epoch 45/60\n",
            "201/201 [==============================] - 28s 141ms/step - loss: 463.1129 - val_loss: 193.0272\n",
            "Epoch 46/60\n",
            "201/201 [==============================] - 28s 140ms/step - loss: 461.9251 - val_loss: 346.3502\n",
            "Epoch 47/60\n",
            "201/201 [==============================] - 28s 138ms/step - loss: 465.4275 - val_loss: 299.9160\n",
            "Epoch 48/60\n",
            "201/201 [==============================] - 29s 145ms/step - loss: 454.3008 - val_loss: 356.5469\n",
            "Epoch 49/60\n",
            "201/201 [==============================] - 29s 143ms/step - loss: 436.3046 - val_loss: 349.2155\n",
            "Epoch 50/60\n",
            "201/201 [==============================] - 29s 145ms/step - loss: 441.9978 - val_loss: 690.6904\n",
            "Epoch 51/60\n",
            "201/201 [==============================] - 30s 147ms/step - loss: 452.3265 - val_loss: 422.2025\n",
            "Epoch 52/60\n",
            "201/201 [==============================] - 29s 142ms/step - loss: 446.7962 - val_loss: 287.1450\n",
            "Epoch 53/60\n",
            "201/201 [==============================] - 29s 143ms/step - loss: 429.4354 - val_loss: 430.1198\n",
            "Epoch 54/60\n",
            "201/201 [==============================] - 29s 142ms/step - loss: 407.9276 - val_loss: 264.3972\n",
            "Epoch 55/60\n",
            "201/201 [==============================] - 29s 145ms/step - loss: 426.2118 - val_loss: 291.6378\n",
            "Epoch 56/60\n",
            "201/201 [==============================] - 29s 146ms/step - loss: 433.5751 - val_loss: 1061.8824\n",
            "Epoch 57/60\n",
            "201/201 [==============================] - 29s 143ms/step - loss: 492.5365 - val_loss: 181.5783\n",
            "Epoch 58/60\n",
            "201/201 [==============================] - 29s 144ms/step - loss: 424.2970 - val_loss: 276.8694\n",
            "Epoch 59/60\n",
            "201/201 [==============================] - 29s 146ms/step - loss: 415.4926 - val_loss: 216.1140\n",
            "Epoch 60/60\n",
            "201/201 [==============================] - 29s 145ms/step - loss: 438.0883 - val_loss: 819.4119\n"
          ]
        }
      ]
    },
    {
      "cell_type": "markdown",
      "source": [
        "### Модель для Yandex"
      ],
      "metadata": {
        "id": "fA3RWPAFrCbe"
      }
    },
    {
      "cell_type": "code",
      "source": [
        "model = Sequential()\n",
        "\n",
        "model.add(LSTM(250, activation='relu', return_sequences=True, input_shape=(n_steps_in, 5)))\n",
        "model.add(Dropout(0.2))\n",
        "\n",
        "model.add(LSTM(200, activation='relu', return_sequences=True))\n",
        "model.add(Dropout(0.3))\n",
        "\n",
        "model.add(LSTM(200, activation='relu', return_sequences=True))\n",
        "model.add(Dropout(0.2))\n",
        "\n",
        "model.add(LSTM(150, activation='relu', return_sequences=True))\n",
        "model.add(Dropout(0.2))\n",
        "\n",
        "model.add(LSTM(100, activation='relu'))\n",
        "model.add(Dropout(0.2))\n",
        "\n",
        "model.add(Dense(units=n_steps_out, activation='linear'))\n",
        "\n",
        "model.compile(optimizer='rmsprop', loss='mse')\n",
        "\n",
        "history = model.fit(x_train, y_train, batch_size=15, epochs=60, shuffle=True, validation_split = 0.2)"
      ],
      "metadata": {
        "colab": {
          "base_uri": "https://localhost:8080/"
        },
        "id": "LodH0SpXrGFP",
        "outputId": "92e14511-c5ff-49ae-ef58-688edb841e7d"
      },
      "execution_count": 91,
      "outputs": [
        {
          "output_type": "stream",
          "name": "stdout",
          "text": [
            "Epoch 1/60\n",
            "77/77 [==============================] - 17s 158ms/step - loss: 3885.9834 - val_loss: 38.4388\n",
            "Epoch 2/60\n",
            "77/77 [==============================] - 11s 148ms/step - loss: 112.1995 - val_loss: 285.3660\n",
            "Epoch 3/60\n",
            "77/77 [==============================] - 11s 146ms/step - loss: 77.5695 - val_loss: 72.2024\n",
            "Epoch 4/60\n",
            "77/77 [==============================] - 11s 147ms/step - loss: 73.2149 - val_loss: 13.7916\n",
            "Epoch 5/60\n",
            "77/77 [==============================] - 11s 143ms/step - loss: 77.7692 - val_loss: 305.0338\n",
            "Epoch 6/60\n",
            "77/77 [==============================] - 11s 146ms/step - loss: 57.0193 - val_loss: 24.4391\n",
            "Epoch 7/60\n",
            "77/77 [==============================] - 11s 144ms/step - loss: 53.4754 - val_loss: 24.5159\n",
            "Epoch 8/60\n",
            "77/77 [==============================] - 11s 147ms/step - loss: 51.8838 - val_loss: 101.7112\n",
            "Epoch 9/60\n",
            "77/77 [==============================] - 11s 144ms/step - loss: 47.9301 - val_loss: 82.2166\n",
            "Epoch 10/60\n",
            "77/77 [==============================] - 11s 143ms/step - loss: 49.4610 - val_loss: 12.7148\n",
            "Epoch 11/60\n",
            "77/77 [==============================] - 11s 146ms/step - loss: 42.6615 - val_loss: 58.2375\n",
            "Epoch 12/60\n",
            "77/77 [==============================] - 11s 146ms/step - loss: 55.4769 - val_loss: 13.2739\n",
            "Epoch 13/60\n",
            "77/77 [==============================] - 11s 147ms/step - loss: 90.4436 - val_loss: 15.9850\n",
            "Epoch 14/60\n",
            "77/77 [==============================] - 11s 146ms/step - loss: 39.1392 - val_loss: 37.7183\n",
            "Epoch 15/60\n",
            "77/77 [==============================] - 11s 146ms/step - loss: 38.9067 - val_loss: 20.0065\n",
            "Epoch 16/60\n",
            "77/77 [==============================] - 11s 147ms/step - loss: 39.5410 - val_loss: 26.6660\n",
            "Epoch 17/60\n",
            "77/77 [==============================] - 11s 148ms/step - loss: 36.2963 - val_loss: 26.2603\n",
            "Epoch 18/60\n",
            "77/77 [==============================] - 11s 146ms/step - loss: 36.4784 - val_loss: 26.8021\n",
            "Epoch 19/60\n",
            "77/77 [==============================] - 11s 146ms/step - loss: 398721.1562 - val_loss: 16.9725\n",
            "Epoch 20/60\n",
            "77/77 [==============================] - 11s 145ms/step - loss: 36.5952 - val_loss: 20.9948\n",
            "Epoch 21/60\n",
            "77/77 [==============================] - 11s 143ms/step - loss: 33.5169 - val_loss: 54.1307\n",
            "Epoch 22/60\n",
            "77/77 [==============================] - 11s 145ms/step - loss: 115.7098 - val_loss: 38.1069\n",
            "Epoch 23/60\n",
            "77/77 [==============================] - 11s 144ms/step - loss: 42.2420 - val_loss: 23.4783\n",
            "Epoch 24/60\n",
            "77/77 [==============================] - 11s 147ms/step - loss: 35.4938 - val_loss: 17.7594\n",
            "Epoch 25/60\n",
            "77/77 [==============================] - 11s 144ms/step - loss: 36.6918 - val_loss: 16.2247\n",
            "Epoch 26/60\n",
            "77/77 [==============================] - 11s 141ms/step - loss: 31.3586 - val_loss: 24.9910\n",
            "Epoch 27/60\n",
            "77/77 [==============================] - 11s 144ms/step - loss: 3076.2957 - val_loss: 17.5121\n",
            "Epoch 28/60\n",
            "77/77 [==============================] - 11s 146ms/step - loss: 25.1301 - val_loss: 42.6548\n",
            "Epoch 29/60\n",
            "77/77 [==============================] - 12s 153ms/step - loss: 35.2059 - val_loss: 53.7095\n",
            "Epoch 30/60\n",
            "77/77 [==============================] - 11s 148ms/step - loss: 29.0548 - val_loss: 22.8636\n",
            "Epoch 31/60\n",
            "77/77 [==============================] - 11s 145ms/step - loss: 163.2073 - val_loss: 30.5606\n",
            "Epoch 32/60\n",
            "77/77 [==============================] - 11s 143ms/step - loss: 24.0322 - val_loss: 36.4247\n",
            "Epoch 33/60\n",
            "77/77 [==============================] - 11s 144ms/step - loss: 27.6839 - val_loss: 20.8555\n",
            "Epoch 34/60\n",
            "77/77 [==============================] - 11s 146ms/step - loss: 27.7375 - val_loss: 15.1628\n",
            "Epoch 35/60\n",
            "77/77 [==============================] - 11s 148ms/step - loss: 25.4962 - val_loss: 37.7461\n",
            "Epoch 36/60\n",
            "77/77 [==============================] - 11s 144ms/step - loss: 28.8943 - val_loss: 27.9496\n",
            "Epoch 37/60\n",
            "77/77 [==============================] - 11s 143ms/step - loss: 26.8404 - val_loss: 28.4180\n",
            "Epoch 38/60\n",
            "77/77 [==============================] - 11s 145ms/step - loss: 5232158208.0000 - val_loss: 255009.5938\n",
            "Epoch 39/60\n",
            "77/77 [==============================] - 11s 143ms/step - loss: 208594.5781 - val_loss: 4438.2769\n",
            "Epoch 40/60\n",
            "77/77 [==============================] - 11s 141ms/step - loss: 1916.1854 - val_loss: 78.0652\n",
            "Epoch 41/60\n",
            "77/77 [==============================] - 11s 144ms/step - loss: 58.7642 - val_loss: 25.1185\n",
            "Epoch 42/60\n",
            "77/77 [==============================] - 11s 147ms/step - loss: 26.1906 - val_loss: 40.9800\n",
            "Epoch 43/60\n",
            "77/77 [==============================] - 11s 146ms/step - loss: 25.8087 - val_loss: 60.6399\n",
            "Epoch 44/60\n",
            "77/77 [==============================] - 11s 146ms/step - loss: 137.8236 - val_loss: 19.4396\n",
            "Epoch 45/60\n",
            "77/77 [==============================] - 11s 146ms/step - loss: 9643.4736 - val_loss: 17.1964\n",
            "Epoch 46/60\n",
            "77/77 [==============================] - 11s 145ms/step - loss: 19.6384 - val_loss: 15.8449\n",
            "Epoch 47/60\n",
            "77/77 [==============================] - 11s 145ms/step - loss: 162963.9844 - val_loss: 17.3280\n",
            "Epoch 48/60\n",
            "77/77 [==============================] - 11s 147ms/step - loss: 24.3187 - val_loss: 13.8033\n",
            "Epoch 49/60\n",
            "77/77 [==============================] - 11s 144ms/step - loss: 24.0433 - val_loss: 20.6471\n",
            "Epoch 50/60\n",
            "77/77 [==============================] - 11s 145ms/step - loss: 26.1499 - val_loss: 9.4673\n",
            "Epoch 51/60\n",
            "77/77 [==============================] - 11s 144ms/step - loss: 35.9229 - val_loss: 18.6753\n",
            "Epoch 52/60\n",
            "77/77 [==============================] - 11s 144ms/step - loss: 25.3489 - val_loss: 38.4403\n",
            "Epoch 53/60\n",
            "77/77 [==============================] - 11s 147ms/step - loss: 26.7083 - val_loss: 8.9105\n",
            "Epoch 54/60\n",
            "77/77 [==============================] - 11s 147ms/step - loss: 28481.7539 - val_loss: 19.2769\n",
            "Epoch 55/60\n",
            "77/77 [==============================] - 11s 146ms/step - loss: 24.0911 - val_loss: 110.0504\n",
            "Epoch 56/60\n",
            "77/77 [==============================] - 11s 149ms/step - loss: 28.1561 - val_loss: 10.7572\n",
            "Epoch 57/60\n",
            "77/77 [==============================] - 12s 153ms/step - loss: 3541.1584 - val_loss: 17.2295\n",
            "Epoch 58/60\n",
            "77/77 [==============================] - 11s 146ms/step - loss: 29.5844 - val_loss: 12.6211\n",
            "Epoch 59/60\n",
            "77/77 [==============================] - 11s 147ms/step - loss: 25.2506 - val_loss: 19.0707\n",
            "Epoch 60/60\n",
            "77/77 [==============================] - 11s 146ms/step - loss: 25.1647 - val_loss: 13.5413\n"
          ]
        }
      ]
    },
    {
      "cell_type": "markdown",
      "source": [
        "### Модель для MIME"
      ],
      "metadata": {
        "id": "mr9V4ZMlxeQV"
      }
    },
    {
      "cell_type": "code",
      "source": [
        "model = Sequential()\n",
        "\n",
        "model.add(LSTM(250, activation='relu', return_sequences=True, input_shape=(n_steps_in, 5)))\n",
        "model.add(Dropout(0.2))\n",
        "\n",
        "model.add(LSTM(200, activation='relu', return_sequences=True))\n",
        "model.add(Dropout(0.3))\n",
        "\n",
        "model.add(LSTM(200, activation='relu', return_sequences=True))\n",
        "model.add(Dropout(0.2))\n",
        "\n",
        "model.add(LSTM(150, activation='relu', return_sequences=True))\n",
        "model.add(Dropout(0.2))\n",
        "\n",
        "model.add(LSTM(150, activation='relu', return_sequences=True))\n",
        "model.add(Dropout(0.2))\n",
        "\n",
        "model.add(LSTM(100, activation='relu'))\n",
        "model.add(Dropout(0.2))\n",
        "\n",
        "model.add(Dense(units=n_steps_out, activation='linear'))\n",
        "\n",
        "model.compile(optimizer='rmsprop', loss='mse')\n",
        "\n",
        "history = model.fit(x_train, y_train, batch_size=15, epochs=60, shuffle=True, validation_split = 0.2)"
      ],
      "metadata": {
        "colab": {
          "base_uri": "https://localhost:8080/"
        },
        "id": "kbtgHuWfxgc6",
        "outputId": "f9e28e18-512f-4d66-830f-2b3642078266"
      },
      "execution_count": 119,
      "outputs": [
        {
          "output_type": "stream",
          "name": "stdout",
          "text": [
            "Epoch 1/60\n",
            "28/28 [==============================] - 11s 202ms/step - loss: 2186346240.0000 - val_loss: 3690332.0000\n",
            "Epoch 2/60\n",
            "28/28 [==============================] - 5s 177ms/step - loss: 79393.2031 - val_loss: 1152045.3750\n",
            "Epoch 3/60\n",
            "28/28 [==============================] - 5s 183ms/step - loss: 50335.5742 - val_loss: 131955.7031\n",
            "Epoch 4/60\n",
            "28/28 [==============================] - 5s 170ms/step - loss: 5232.3076 - val_loss: 59069.1875\n",
            "Epoch 5/60\n",
            "28/28 [==============================] - 5s 172ms/step - loss: 1154.7003 - val_loss: 11458.0820\n",
            "Epoch 6/60\n",
            "28/28 [==============================] - 5s 171ms/step - loss: 649.7331 - val_loss: 4750.5674\n",
            "Epoch 7/60\n",
            "28/28 [==============================] - 5s 168ms/step - loss: 505.6823 - val_loss: 2004.5927\n",
            "Epoch 8/60\n",
            "28/28 [==============================] - 5s 168ms/step - loss: 398.7545 - val_loss: 14483.0830\n",
            "Epoch 9/60\n",
            "28/28 [==============================] - 5s 170ms/step - loss: 32918.6211 - val_loss: 8590.2900\n",
            "Epoch 10/60\n",
            "28/28 [==============================] - 5s 174ms/step - loss: 401.9925 - val_loss: 443.7954\n",
            "Epoch 11/60\n",
            "28/28 [==============================] - 5s 173ms/step - loss: 178.9680 - val_loss: 274.5457\n",
            "Epoch 12/60\n",
            "28/28 [==============================] - 5s 169ms/step - loss: 75.8345 - val_loss: 302.0591\n",
            "Epoch 13/60\n",
            "28/28 [==============================] - 5s 174ms/step - loss: 62.1728 - val_loss: 562.4733\n",
            "Epoch 14/60\n",
            "28/28 [==============================] - 5s 170ms/step - loss: 63.1932 - val_loss: 39.0498\n",
            "Epoch 15/60\n",
            "28/28 [==============================] - 5s 175ms/step - loss: 46.1700 - val_loss: 38.9658\n",
            "Epoch 16/60\n",
            "28/28 [==============================] - 5s 175ms/step - loss: 49.2446 - val_loss: 165.1019\n",
            "Epoch 17/60\n",
            "28/28 [==============================] - 5s 168ms/step - loss: 63.8998 - val_loss: 154.6539\n",
            "Epoch 18/60\n",
            "28/28 [==============================] - 5s 177ms/step - loss: 114.4365 - val_loss: 34.6166\n",
            "Epoch 19/60\n",
            "28/28 [==============================] - 5s 167ms/step - loss: 51.3758 - val_loss: 218.9375\n",
            "Epoch 20/60\n",
            "28/28 [==============================] - 5s 172ms/step - loss: 36.0584 - val_loss: 26.3888\n",
            "Epoch 21/60\n",
            "28/28 [==============================] - 5s 172ms/step - loss: 40.2105 - val_loss: 49.6972\n",
            "Epoch 22/60\n",
            "28/28 [==============================] - 5s 171ms/step - loss: 39.8622 - val_loss: 57.3234\n",
            "Epoch 23/60\n",
            "28/28 [==============================] - 5s 177ms/step - loss: 38.4174 - val_loss: 54.2305\n",
            "Epoch 24/60\n",
            "28/28 [==============================] - 5s 172ms/step - loss: 28.6265 - val_loss: 96.6970\n",
            "Epoch 25/60\n",
            "28/28 [==============================] - 5s 177ms/step - loss: 29.8063 - val_loss: 51.5793\n",
            "Epoch 26/60\n",
            "28/28 [==============================] - 5s 172ms/step - loss: 26.5887 - val_loss: 24.5185\n",
            "Epoch 27/60\n",
            "28/28 [==============================] - 5s 170ms/step - loss: 33.7883 - val_loss: 53.8743\n",
            "Epoch 28/60\n",
            "28/28 [==============================] - 5s 178ms/step - loss: 20.5703 - val_loss: 18.2829\n",
            "Epoch 29/60\n",
            "28/28 [==============================] - 5s 174ms/step - loss: 25.4836 - val_loss: 51.1312\n",
            "Epoch 30/60\n",
            "28/28 [==============================] - 5s 175ms/step - loss: 20.8516 - val_loss: 28.0177\n",
            "Epoch 31/60\n",
            "28/28 [==============================] - 5s 171ms/step - loss: 24.2630 - val_loss: 172.8392\n",
            "Epoch 32/60\n",
            "28/28 [==============================] - 5s 169ms/step - loss: 22.8034 - val_loss: 33.2937\n",
            "Epoch 33/60\n",
            "28/28 [==============================] - 5s 170ms/step - loss: 19.2383 - val_loss: 33.7279\n",
            "Epoch 34/60\n",
            "28/28 [==============================] - 5s 173ms/step - loss: 28.3019 - val_loss: 57.0214\n",
            "Epoch 35/60\n",
            "28/28 [==============================] - 5s 174ms/step - loss: 17.2659 - val_loss: 55.0686\n",
            "Epoch 36/60\n",
            "28/28 [==============================] - 5s 173ms/step - loss: 16.6069 - val_loss: 83.1734\n",
            "Epoch 37/60\n",
            "28/28 [==============================] - 5s 171ms/step - loss: 17.0325 - val_loss: 12.9094\n",
            "Epoch 38/60\n",
            "28/28 [==============================] - 5s 171ms/step - loss: 21.4841 - val_loss: 38.4135\n",
            "Epoch 39/60\n",
            "28/28 [==============================] - 5s 171ms/step - loss: 16.3229 - val_loss: 103.5249\n",
            "Epoch 40/60\n",
            "28/28 [==============================] - 5s 176ms/step - loss: 16.6289 - val_loss: 66.9811\n",
            "Epoch 41/60\n",
            "28/28 [==============================] - 5s 175ms/step - loss: 16.5213 - val_loss: 132.3198\n",
            "Epoch 42/60\n",
            "28/28 [==============================] - 5s 169ms/step - loss: 16.2712 - val_loss: 21.3439\n",
            "Epoch 43/60\n",
            "28/28 [==============================] - 5s 175ms/step - loss: 15.5630 - val_loss: 37.4748\n",
            "Epoch 44/60\n",
            "28/28 [==============================] - 5s 169ms/step - loss: 16.9923 - val_loss: 55.0099\n",
            "Epoch 45/60\n",
            "28/28 [==============================] - 5s 174ms/step - loss: 15.9401 - val_loss: 50.1450\n",
            "Epoch 46/60\n",
            "28/28 [==============================] - 5s 171ms/step - loss: 14.5233 - val_loss: 32.7277\n",
            "Epoch 47/60\n",
            "28/28 [==============================] - 5s 170ms/step - loss: 12.7384 - val_loss: 84.0100\n",
            "Epoch 48/60\n",
            "28/28 [==============================] - 5s 174ms/step - loss: 15.1500 - val_loss: 41.6908\n",
            "Epoch 49/60\n",
            "28/28 [==============================] - 5s 172ms/step - loss: 14.7260 - val_loss: 33.0924\n",
            "Epoch 50/60\n",
            "28/28 [==============================] - 5s 176ms/step - loss: 79.7976 - val_loss: 113.1885\n",
            "Epoch 51/60\n",
            "28/28 [==============================] - 5s 170ms/step - loss: 18.2126 - val_loss: 15.7543\n",
            "Epoch 52/60\n",
            "28/28 [==============================] - 5s 169ms/step - loss: 12.1156 - val_loss: 100.1359\n",
            "Epoch 53/60\n",
            "28/28 [==============================] - 5s 173ms/step - loss: 12.5016 - val_loss: 48.2692\n",
            "Epoch 54/60\n",
            "28/28 [==============================] - 5s 172ms/step - loss: 12.4677 - val_loss: 87.9226\n",
            "Epoch 55/60\n",
            "28/28 [==============================] - 5s 174ms/step - loss: 12.0638 - val_loss: 96.7259\n",
            "Epoch 56/60\n",
            "28/28 [==============================] - 5s 170ms/step - loss: 10.7000 - val_loss: 54.3590\n",
            "Epoch 57/60\n",
            "28/28 [==============================] - 5s 172ms/step - loss: 12.8435 - val_loss: 18.6012\n",
            "Epoch 58/60\n",
            "28/28 [==============================] - 5s 175ms/step - loss: 9.9790 - val_loss: 37.6603\n",
            "Epoch 59/60\n",
            "28/28 [==============================] - 5s 173ms/step - loss: 10.9802 - val_loss: 72.1877\n",
            "Epoch 60/60\n",
            "28/28 [==============================] - 5s 175ms/step - loss: 10.8831 - val_loss: 75.4523\n"
          ]
        }
      ]
    },
    {
      "cell_type": "markdown",
      "source": [
        "## Результаты"
      ],
      "metadata": {
        "id": "ldZx9eLlcCDx"
      }
    },
    {
      "cell_type": "markdown",
      "source": [
        "### Результаты для IBM"
      ],
      "metadata": {
        "id": "jjd6jxFAcN_V"
      }
    },
    {
      "cell_type": "code",
      "source": [
        "predict = model.predict(x_test)\n",
        "predict"
      ],
      "metadata": {
        "colab": {
          "base_uri": "https://localhost:8080/"
        },
        "id": "RXf8DKmBj0EG",
        "outputId": "6df2c484-603d-4a00-bc0d-e648e8e0f074"
      },
      "execution_count": 73,
      "outputs": [
        {
          "output_type": "stream",
          "name": "stdout",
          "text": [
            "30/30 [==============================] - 3s 78ms/step\n"
          ]
        },
        {
          "output_type": "execute_result",
          "data": {
            "text/plain": [
              "array([[187.13466 , 186.17651 , 189.35567 , ..., 192.22723 , 193.06573 ,\n",
              "        189.91228 ],\n",
              "       [185.01985 , 184.22049 , 187.42786 , ..., 190.13014 , 191.11105 ,\n",
              "        187.9956  ],\n",
              "       [182.09933 , 181.4907  , 184.78307 , ..., 187.23528 , 188.43167 ,\n",
              "        185.33472 ],\n",
              "       ...,\n",
              "       [103.955185, 103.800415, 103.46153 , ..., 105.61159 , 105.86517 ,\n",
              "        106.51098 ],\n",
              "       [104.22279 , 104.04708 , 103.723755, ..., 105.88839 , 106.12563 ,\n",
              "        106.7568  ],\n",
              "       [104.43361 , 104.23998 , 103.89858 , ..., 106.0855  , 106.29806 ,\n",
              "        106.93169 ]], dtype=float32)"
            ]
          },
          "metadata": {},
          "execution_count": 73
        }
      ]
    },
    {
      "cell_type": "code",
      "source": [
        "y_test"
      ],
      "metadata": {
        "colab": {
          "base_uri": "https://localhost:8080/"
        },
        "id": "I2s8PVnpoRpN",
        "outputId": "162c9d7f-c092-4860-e4e2-f3ca21f2063a"
      },
      "execution_count": 74,
      "outputs": [
        {
          "output_type": "execute_result",
          "data": {
            "text/plain": [
              "array([[161.54, 162.67, 164.52, ..., 161.85, 162.34, 162.86],\n",
              "       [162.67, 164.52, 164.05, ..., 162.34, 162.86, 162.38],\n",
              "       [164.52, 164.05, 163.27, ..., 162.86, 162.38, 162.3 ],\n",
              "       ...,\n",
              "       [146.51, 145.97, 145.24, ..., 107.57, 111.39, 113.78],\n",
              "       [145.97, 145.24, 145.37, ..., 111.39, 113.78, 113.03],\n",
              "       [145.24, 145.37, 146.04, ..., 113.78, 113.03, 113.67]])"
            ]
          },
          "metadata": {},
          "execution_count": 74
        }
      ]
    },
    {
      "cell_type": "code",
      "source": [
        "model.save('/content/LSTM_IBM_NICE.h5')"
      ],
      "metadata": {
        "colab": {
          "base_uri": "https://localhost:8080/"
        },
        "id": "5he9Y_ia0K1D",
        "outputId": "b5d6a8be-b75e-4e39-f8fe-df838e02fbb3"
      },
      "execution_count": 75,
      "outputs": [
        {
          "output_type": "stream",
          "name": "stderr",
          "text": [
            "/usr/local/lib/python3.10/dist-packages/keras/src/engine/training.py:3103: UserWarning: You are saving your model as an HDF5 file via `model.save()`. This file format is considered legacy. We recommend using instead the native Keras format, e.g. `model.save('my_model.keras')`.\n",
            "  saving_api.save_model(\n"
          ]
        }
      ]
    },
    {
      "cell_type": "markdown",
      "source": [
        "### Результаты для Yandex"
      ],
      "metadata": {
        "id": "JMwGWOnrcSJt"
      }
    },
    {
      "cell_type": "code",
      "source": [
        "predict = model.predict(x_test)\n",
        "predict"
      ],
      "metadata": {
        "colab": {
          "base_uri": "https://localhost:8080/"
        },
        "id": "79h7QZsHrI7i",
        "outputId": "b72f4ca0-0ea9-4c8d-ddd0-676a6d9df976"
      },
      "execution_count": 92,
      "outputs": [
        {
          "output_type": "stream",
          "name": "stdout",
          "text": [
            "12/12 [==============================] - 1s 77ms/step\n"
          ]
        },
        {
          "output_type": "execute_result",
          "data": {
            "text/plain": [
              "array([[14.309579 , 14.42602  , 14.275345 , ..., 14.378533 , 14.0750065,\n",
              "        13.759471 ],\n",
              "       [14.29768  , 14.415672 , 14.2667675, ..., 14.364928 , 14.059179 ,\n",
              "        13.747881 ],\n",
              "       [14.303921 , 14.413824 , 14.276816 , ..., 14.270855 , 13.970999 ,\n",
              "        13.664042 ],\n",
              "       ...,\n",
              "       [32.879723 , 33.064068 , 33.08372  , ..., 27.04904  , 26.923433 ,\n",
              "        26.089102 ],\n",
              "       [32.691784 , 32.88013  , 32.900482 , ..., 26.943312 , 26.798855 ,\n",
              "        25.98207  ],\n",
              "       [32.487823 , 32.680206 , 32.70089  , ..., 26.81879  , 26.656387 ,\n",
              "        25.858612 ]], dtype=float32)"
            ]
          },
          "metadata": {},
          "execution_count": 92
        }
      ]
    },
    {
      "cell_type": "code",
      "source": [
        "y_test"
      ],
      "metadata": {
        "colab": {
          "base_uri": "https://localhost:8080/"
        },
        "id": "0EZQiBpNrL3X",
        "outputId": "5d6be547-d464-4439-8f68-d0d461c4e198"
      },
      "execution_count": 93,
      "outputs": [
        {
          "output_type": "execute_result",
          "data": {
            "text/plain": [
              "array([[22.41, 22.17, 22.43, ..., 29.53, 28.98, 28.98],\n",
              "       [22.17, 22.43, 22.24, ..., 28.98, 28.98, 28.36],\n",
              "       [22.43, 22.24, 22.06, ..., 28.98, 28.36, 29.16],\n",
              "       ...,\n",
              "       [31.63, 31.96, 31.49, ..., 27.08, 27.79, 27.56],\n",
              "       [31.96, 31.49, 30.86, ..., 27.79, 27.56, 27.91],\n",
              "       [31.49, 30.86, 31.79, ..., 27.56, 27.91, 27.35]])"
            ]
          },
          "metadata": {},
          "execution_count": 93
        }
      ]
    },
    {
      "cell_type": "code",
      "source": [
        "model.save('/content/LSTM_YANDEX_NICE.h5')"
      ],
      "metadata": {
        "id": "XKf6AB5prM09"
      },
      "execution_count": 94,
      "outputs": []
    },
    {
      "cell_type": "markdown",
      "source": [
        "### Результаты для MIME"
      ],
      "metadata": {
        "id": "ozPcDQn1xm59"
      }
    },
    {
      "cell_type": "code",
      "source": [
        "predict = model.predict(x_test)\n",
        "predict"
      ],
      "metadata": {
        "colab": {
          "base_uri": "https://localhost:8080/"
        },
        "id": "SllL8Pzaxonv",
        "outputId": "d14166b5-0f14-4c73-9836-c2a500ec731b"
      },
      "execution_count": 120,
      "outputs": [
        {
          "output_type": "stream",
          "name": "stdout",
          "text": [
            "5/5 [==============================] - 1s 73ms/step\n"
          ]
        },
        {
          "output_type": "execute_result",
          "data": {
            "text/plain": [
              "array([[41.932415 , 39.290768 , 38.734787 , ..., 39.319942 , 50.896748 ,\n",
              "        45.678814 ],\n",
              "       [59.602142 , 54.211285 , 50.664845 , ..., 52.152924 , 69.8269   ,\n",
              "        61.186275 ],\n",
              "       [37.49378  , 42.84433  , 37.649113 , ..., 46.290573 , 51.90238  ,\n",
              "        50.68556  ],\n",
              "       ...,\n",
              "       [14.8106365, 14.981062 , 14.887822 , ..., 20.080847 , 19.781507 ,\n",
              "        19.996712 ],\n",
              "       [17.274035 , 17.302937 , 16.89158  , ..., 21.64177  , 21.711983 ,\n",
              "        21.541739 ],\n",
              "       [18.993837 , 18.973372 , 18.26762  , ..., 22.896893 , 23.225367 ,\n",
              "        22.853252 ]], dtype=float32)"
            ]
          },
          "metadata": {},
          "execution_count": 120
        }
      ]
    },
    {
      "cell_type": "code",
      "source": [
        "y_test"
      ],
      "metadata": {
        "colab": {
          "base_uri": "https://localhost:8080/"
        },
        "id": "q_OJ56AexqDW",
        "outputId": "99ca495e-9819-4bd4-a820-5a9ad2569c1b"
      },
      "execution_count": 121,
      "outputs": [
        {
          "output_type": "execute_result",
          "data": {
            "text/plain": [
              "array([[33.42, 33.23, 34.32, ..., 44.8 , 42.06, 40.91],\n",
              "       [33.23, 34.32, 34.12, ..., 42.06, 40.91, 41.02],\n",
              "       [34.32, 34.12, 34.01, ..., 40.91, 41.02, 39.47],\n",
              "       ...,\n",
              "       [38.57, 38.86, 39.08, ..., 30.87, 32.51, 32.7 ],\n",
              "       [38.86, 39.08, 40.43, ..., 32.51, 32.7 , 33.32],\n",
              "       [39.08, 40.43, 41.39, ..., 32.7 , 33.32, 33.63]])"
            ]
          },
          "metadata": {},
          "execution_count": 121
        }
      ]
    },
    {
      "cell_type": "code",
      "source": [
        "model.save('/content/LSTM_MIME_NICE.h5')"
      ],
      "metadata": {
        "id": "1sCTNp8-xqkG"
      },
      "execution_count": 122,
      "outputs": []
    }
  ]
}