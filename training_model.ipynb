{
  "nbformat": 4,
  "nbformat_minor": 0,
  "metadata": {
    "colab": {
      "provenance": [],
      "gpuType": "V28",
      "authorship_tag": "ABX9TyOuc06EI9fLCoNj/J6thA7E",
      "include_colab_link": true
    },
    "kernelspec": {
      "name": "python3",
      "display_name": "Python 3"
    },
    "language_info": {
      "name": "python"
    },
    "accelerator": "TPU"
  },
  "cells": [
    {
      "cell_type": "markdown",
      "metadata": {
        "id": "view-in-github",
        "colab_type": "text"
      },
      "source": [
        "<a href=\"https://colab.research.google.com/github/FREDY129053/Final_theory_work/blob/main/training_model.ipynb\" target=\"_parent\"><img src=\"https://colab.research.google.com/assets/colab-badge.svg\" alt=\"Open In Colab\"/></a>"
      ]
    },
    {
      "cell_type": "markdown",
      "source": [
        "## Обучение модель для предсказания акций IBM, Yandex, MIME"
      ],
      "metadata": {
        "id": "ejFZdAXMbj5a"
      }
    },
    {
      "cell_type": "markdown",
      "source": [
        "## Импорт библиотек"
      ],
      "metadata": {
        "id": "SzA71_X-bqvT"
      }
    },
    {
      "cell_type": "code",
      "execution_count": 57,
      "metadata": {
        "id": "F2NXNqLcq1J1"
      },
      "outputs": [],
      "source": [
        "import pandas as pd\n",
        "import numpy as np\n",
        "import matplotlib.pyplot as plt\n",
        "\n",
        "from sklearn.preprocessing import StandardScaler\n",
        "from tensorflow.keras.models import Sequential\n",
        "from tensorflow.keras.layers import Dense, Dropout, LSTM"
      ]
    },
    {
      "cell_type": "markdown",
      "source": [
        "## Работа с датасетом, полученным из БД"
      ],
      "metadata": {
        "id": "5luVGCZpbtf6"
      }
    },
    {
      "cell_type": "code",
      "source": [
        "df = pd.read_csv('/content/ibm_data.csv')"
      ],
      "metadata": {
        "id": "qWGR2nunujXo"
      },
      "execution_count": 58,
      "outputs": []
    },
    {
      "cell_type": "code",
      "source": [
        "df['Date_point'] = pd.to_datetime(df['Date_point'])"
      ],
      "metadata": {
        "id": "R0F3aCw9ursI"
      },
      "execution_count": 59,
      "outputs": []
    },
    {
      "cell_type": "code",
      "source": [
        "df.head(5)"
      ],
      "metadata": {
        "colab": {
          "base_uri": "https://localhost:8080/",
          "height": 206
        },
        "id": "LAtlJa2RGMQK",
        "outputId": "bbbb0e27-f3e7-499a-d252-da5724897b94"
      },
      "execution_count": 60,
      "outputs": [
        {
          "output_type": "execute_result",
          "data": {
            "text/plain": [
              "  Date_point                                  Name    Open    High       Low  \\\n",
              "0 2018-12-31  International Business Machines Corp  113.33  114.35  112.4201   \n",
              "1 2018-12-28  International Business Machines Corp  114.22  114.80  112.5000   \n",
              "2 2018-12-27  International Business Machines Corp  109.99  113.78  109.4700   \n",
              "3 2018-12-26  International Business Machines Corp  108.00  111.39  105.9400   \n",
              "4 2018-12-24  International Business Machines Corp  109.90  111.00  107.5000   \n",
              "\n",
              "    Close     Volume  \n",
              "0  113.67  4982755.0  \n",
              "1  113.03  5117533.0  \n",
              "2  113.78  6045590.0  \n",
              "3  111.39  6645794.0  \n",
              "4  107.57  3821376.0  "
            ],
            "text/html": [
              "\n",
              "  <div id=\"df-f47f8840-b24b-49fa-a6d4-bed2edf04299\" class=\"colab-df-container\">\n",
              "    <div>\n",
              "<style scoped>\n",
              "    .dataframe tbody tr th:only-of-type {\n",
              "        vertical-align: middle;\n",
              "    }\n",
              "\n",
              "    .dataframe tbody tr th {\n",
              "        vertical-align: top;\n",
              "    }\n",
              "\n",
              "    .dataframe thead th {\n",
              "        text-align: right;\n",
              "    }\n",
              "</style>\n",
              "<table border=\"1\" class=\"dataframe\">\n",
              "  <thead>\n",
              "    <tr style=\"text-align: right;\">\n",
              "      <th></th>\n",
              "      <th>Date_point</th>\n",
              "      <th>Name</th>\n",
              "      <th>Open</th>\n",
              "      <th>High</th>\n",
              "      <th>Low</th>\n",
              "      <th>Close</th>\n",
              "      <th>Volume</th>\n",
              "    </tr>\n",
              "  </thead>\n",
              "  <tbody>\n",
              "    <tr>\n",
              "      <th>0</th>\n",
              "      <td>2018-12-31</td>\n",
              "      <td>International Business Machines Corp</td>\n",
              "      <td>113.33</td>\n",
              "      <td>114.35</td>\n",
              "      <td>112.4201</td>\n",
              "      <td>113.67</td>\n",
              "      <td>4982755.0</td>\n",
              "    </tr>\n",
              "    <tr>\n",
              "      <th>1</th>\n",
              "      <td>2018-12-28</td>\n",
              "      <td>International Business Machines Corp</td>\n",
              "      <td>114.22</td>\n",
              "      <td>114.80</td>\n",
              "      <td>112.5000</td>\n",
              "      <td>113.03</td>\n",
              "      <td>5117533.0</td>\n",
              "    </tr>\n",
              "    <tr>\n",
              "      <th>2</th>\n",
              "      <td>2018-12-27</td>\n",
              "      <td>International Business Machines Corp</td>\n",
              "      <td>109.99</td>\n",
              "      <td>113.78</td>\n",
              "      <td>109.4700</td>\n",
              "      <td>113.78</td>\n",
              "      <td>6045590.0</td>\n",
              "    </tr>\n",
              "    <tr>\n",
              "      <th>3</th>\n",
              "      <td>2018-12-26</td>\n",
              "      <td>International Business Machines Corp</td>\n",
              "      <td>108.00</td>\n",
              "      <td>111.39</td>\n",
              "      <td>105.9400</td>\n",
              "      <td>111.39</td>\n",
              "      <td>6645794.0</td>\n",
              "    </tr>\n",
              "    <tr>\n",
              "      <th>4</th>\n",
              "      <td>2018-12-24</td>\n",
              "      <td>International Business Machines Corp</td>\n",
              "      <td>109.90</td>\n",
              "      <td>111.00</td>\n",
              "      <td>107.5000</td>\n",
              "      <td>107.57</td>\n",
              "      <td>3821376.0</td>\n",
              "    </tr>\n",
              "  </tbody>\n",
              "</table>\n",
              "</div>\n",
              "    <div class=\"colab-df-buttons\">\n",
              "\n",
              "  <div class=\"colab-df-container\">\n",
              "    <button class=\"colab-df-convert\" onclick=\"convertToInteractive('df-f47f8840-b24b-49fa-a6d4-bed2edf04299')\"\n",
              "            title=\"Convert this dataframe to an interactive table.\"\n",
              "            style=\"display:none;\">\n",
              "\n",
              "  <svg xmlns=\"http://www.w3.org/2000/svg\" height=\"24px\" viewBox=\"0 -960 960 960\">\n",
              "    <path d=\"M120-120v-720h720v720H120Zm60-500h600v-160H180v160Zm220 220h160v-160H400v160Zm0 220h160v-160H400v160ZM180-400h160v-160H180v160Zm440 0h160v-160H620v160ZM180-180h160v-160H180v160Zm440 0h160v-160H620v160Z\"/>\n",
              "  </svg>\n",
              "    </button>\n",
              "\n",
              "  <style>\n",
              "    .colab-df-container {\n",
              "      display:flex;\n",
              "      gap: 12px;\n",
              "    }\n",
              "\n",
              "    .colab-df-convert {\n",
              "      background-color: #E8F0FE;\n",
              "      border: none;\n",
              "      border-radius: 50%;\n",
              "      cursor: pointer;\n",
              "      display: none;\n",
              "      fill: #1967D2;\n",
              "      height: 32px;\n",
              "      padding: 0 0 0 0;\n",
              "      width: 32px;\n",
              "    }\n",
              "\n",
              "    .colab-df-convert:hover {\n",
              "      background-color: #E2EBFA;\n",
              "      box-shadow: 0px 1px 2px rgba(60, 64, 67, 0.3), 0px 1px 3px 1px rgba(60, 64, 67, 0.15);\n",
              "      fill: #174EA6;\n",
              "    }\n",
              "\n",
              "    .colab-df-buttons div {\n",
              "      margin-bottom: 4px;\n",
              "    }\n",
              "\n",
              "    [theme=dark] .colab-df-convert {\n",
              "      background-color: #3B4455;\n",
              "      fill: #D2E3FC;\n",
              "    }\n",
              "\n",
              "    [theme=dark] .colab-df-convert:hover {\n",
              "      background-color: #434B5C;\n",
              "      box-shadow: 0px 1px 3px 1px rgba(0, 0, 0, 0.15);\n",
              "      filter: drop-shadow(0px 1px 2px rgba(0, 0, 0, 0.3));\n",
              "      fill: #FFFFFF;\n",
              "    }\n",
              "  </style>\n",
              "\n",
              "    <script>\n",
              "      const buttonEl =\n",
              "        document.querySelector('#df-f47f8840-b24b-49fa-a6d4-bed2edf04299 button.colab-df-convert');\n",
              "      buttonEl.style.display =\n",
              "        google.colab.kernel.accessAllowed ? 'block' : 'none';\n",
              "\n",
              "      async function convertToInteractive(key) {\n",
              "        const element = document.querySelector('#df-f47f8840-b24b-49fa-a6d4-bed2edf04299');\n",
              "        const dataTable =\n",
              "          await google.colab.kernel.invokeFunction('convertToInteractive',\n",
              "                                                    [key], {});\n",
              "        if (!dataTable) return;\n",
              "\n",
              "        const docLinkHtml = 'Like what you see? Visit the ' +\n",
              "          '<a target=\"_blank\" href=https://colab.research.google.com/notebooks/data_table.ipynb>data table notebook</a>'\n",
              "          + ' to learn more about interactive tables.';\n",
              "        element.innerHTML = '';\n",
              "        dataTable['output_type'] = 'display_data';\n",
              "        await google.colab.output.renderOutput(dataTable, element);\n",
              "        const docLink = document.createElement('div');\n",
              "        docLink.innerHTML = docLinkHtml;\n",
              "        element.appendChild(docLink);\n",
              "      }\n",
              "    </script>\n",
              "  </div>\n",
              "\n",
              "\n",
              "<div id=\"df-8d50a6d8-e16a-4c7c-ab5f-8760f60dd9c9\">\n",
              "  <button class=\"colab-df-quickchart\" onclick=\"quickchart('df-8d50a6d8-e16a-4c7c-ab5f-8760f60dd9c9')\"\n",
              "            title=\"Suggest charts\"\n",
              "            style=\"display:none;\">\n",
              "\n",
              "<svg xmlns=\"http://www.w3.org/2000/svg\" height=\"24px\"viewBox=\"0 0 24 24\"\n",
              "     width=\"24px\">\n",
              "    <g>\n",
              "        <path d=\"M19 3H5c-1.1 0-2 .9-2 2v14c0 1.1.9 2 2 2h14c1.1 0 2-.9 2-2V5c0-1.1-.9-2-2-2zM9 17H7v-7h2v7zm4 0h-2V7h2v10zm4 0h-2v-4h2v4z\"/>\n",
              "    </g>\n",
              "</svg>\n",
              "  </button>\n",
              "\n",
              "<style>\n",
              "  .colab-df-quickchart {\n",
              "      --bg-color: #E8F0FE;\n",
              "      --fill-color: #1967D2;\n",
              "      --hover-bg-color: #E2EBFA;\n",
              "      --hover-fill-color: #174EA6;\n",
              "      --disabled-fill-color: #AAA;\n",
              "      --disabled-bg-color: #DDD;\n",
              "  }\n",
              "\n",
              "  [theme=dark] .colab-df-quickchart {\n",
              "      --bg-color: #3B4455;\n",
              "      --fill-color: #D2E3FC;\n",
              "      --hover-bg-color: #434B5C;\n",
              "      --hover-fill-color: #FFFFFF;\n",
              "      --disabled-bg-color: #3B4455;\n",
              "      --disabled-fill-color: #666;\n",
              "  }\n",
              "\n",
              "  .colab-df-quickchart {\n",
              "    background-color: var(--bg-color);\n",
              "    border: none;\n",
              "    border-radius: 50%;\n",
              "    cursor: pointer;\n",
              "    display: none;\n",
              "    fill: var(--fill-color);\n",
              "    height: 32px;\n",
              "    padding: 0;\n",
              "    width: 32px;\n",
              "  }\n",
              "\n",
              "  .colab-df-quickchart:hover {\n",
              "    background-color: var(--hover-bg-color);\n",
              "    box-shadow: 0 1px 2px rgba(60, 64, 67, 0.3), 0 1px 3px 1px rgba(60, 64, 67, 0.15);\n",
              "    fill: var(--button-hover-fill-color);\n",
              "  }\n",
              "\n",
              "  .colab-df-quickchart-complete:disabled,\n",
              "  .colab-df-quickchart-complete:disabled:hover {\n",
              "    background-color: var(--disabled-bg-color);\n",
              "    fill: var(--disabled-fill-color);\n",
              "    box-shadow: none;\n",
              "  }\n",
              "\n",
              "  .colab-df-spinner {\n",
              "    border: 2px solid var(--fill-color);\n",
              "    border-color: transparent;\n",
              "    border-bottom-color: var(--fill-color);\n",
              "    animation:\n",
              "      spin 1s steps(1) infinite;\n",
              "  }\n",
              "\n",
              "  @keyframes spin {\n",
              "    0% {\n",
              "      border-color: transparent;\n",
              "      border-bottom-color: var(--fill-color);\n",
              "      border-left-color: var(--fill-color);\n",
              "    }\n",
              "    20% {\n",
              "      border-color: transparent;\n",
              "      border-left-color: var(--fill-color);\n",
              "      border-top-color: var(--fill-color);\n",
              "    }\n",
              "    30% {\n",
              "      border-color: transparent;\n",
              "      border-left-color: var(--fill-color);\n",
              "      border-top-color: var(--fill-color);\n",
              "      border-right-color: var(--fill-color);\n",
              "    }\n",
              "    40% {\n",
              "      border-color: transparent;\n",
              "      border-right-color: var(--fill-color);\n",
              "      border-top-color: var(--fill-color);\n",
              "    }\n",
              "    60% {\n",
              "      border-color: transparent;\n",
              "      border-right-color: var(--fill-color);\n",
              "    }\n",
              "    80% {\n",
              "      border-color: transparent;\n",
              "      border-right-color: var(--fill-color);\n",
              "      border-bottom-color: var(--fill-color);\n",
              "    }\n",
              "    90% {\n",
              "      border-color: transparent;\n",
              "      border-bottom-color: var(--fill-color);\n",
              "    }\n",
              "  }\n",
              "</style>\n",
              "\n",
              "  <script>\n",
              "    async function quickchart(key) {\n",
              "      const quickchartButtonEl =\n",
              "        document.querySelector('#' + key + ' button');\n",
              "      quickchartButtonEl.disabled = true;  // To prevent multiple clicks.\n",
              "      quickchartButtonEl.classList.add('colab-df-spinner');\n",
              "      try {\n",
              "        const charts = await google.colab.kernel.invokeFunction(\n",
              "            'suggestCharts', [key], {});\n",
              "      } catch (error) {\n",
              "        console.error('Error during call to suggestCharts:', error);\n",
              "      }\n",
              "      quickchartButtonEl.classList.remove('colab-df-spinner');\n",
              "      quickchartButtonEl.classList.add('colab-df-quickchart-complete');\n",
              "    }\n",
              "    (() => {\n",
              "      let quickchartButtonEl =\n",
              "        document.querySelector('#df-8d50a6d8-e16a-4c7c-ab5f-8760f60dd9c9 button');\n",
              "      quickchartButtonEl.style.display =\n",
              "        google.colab.kernel.accessAllowed ? 'block' : 'none';\n",
              "    })();\n",
              "  </script>\n",
              "</div>\n",
              "    </div>\n",
              "  </div>\n"
            ],
            "application/vnd.google.colaboratory.intrinsic+json": {
              "type": "dataframe",
              "variable_name": "df",
              "summary": "{\n  \"name\": \"df\",\n  \"rows\": 4822,\n  \"fields\": [\n    {\n      \"column\": \"Date_point\",\n      \"properties\": {\n        \"dtype\": \"date\",\n        \"min\": \"1999-11-01 00:00:00\",\n        \"max\": \"2018-12-31 00:00:00\",\n        \"num_unique_values\": 4822,\n        \"samples\": [\n          \"2001-09-27 00:00:00\",\n          \"2014-02-25 00:00:00\",\n          \"2011-06-09 00:00:00\"\n        ],\n        \"semantic_type\": \"\",\n        \"description\": \"\"\n      }\n    },\n    {\n      \"column\": \"Name\",\n      \"properties\": {\n        \"dtype\": \"category\",\n        \"num_unique_values\": 1,\n        \"samples\": [\n          \"International Business Machines Corp\"\n        ],\n        \"semantic_type\": \"\",\n        \"description\": \"\"\n      }\n    },\n    {\n      \"column\": \"Open\",\n      \"properties\": {\n        \"dtype\": \"number\",\n        \"std\": 39.233358645940434,\n        \"min\": 54.65,\n        \"max\": 215.38,\n        \"num_unique_values\": 3598,\n        \"samples\": [\n          157.26\n        ],\n        \"semantic_type\": \"\",\n        \"description\": \"\"\n      }\n    },\n    {\n      \"column\": \"High\",\n      \"properties\": {\n        \"dtype\": \"number\",\n        \"std\": 39.303181024388316,\n        \"min\": 56.7,\n        \"max\": 215.9,\n        \"num_unique_values\": 3772,\n        \"samples\": [\n          151.51\n        ],\n        \"semantic_type\": \"\",\n        \"description\": \"\"\n      }\n    },\n    {\n      \"column\": \"Low\",\n      \"properties\": {\n        \"dtype\": \"number\",\n        \"std\": 39.17283382511013,\n        \"min\": 54.01,\n        \"max\": 214.3,\n        \"num_unique_values\": 3795,\n        \"samples\": [\n          144.08\n        ],\n        \"semantic_type\": \"\",\n        \"description\": \"\"\n      }\n    },\n    {\n      \"column\": \"Close\",\n      \"properties\": {\n        \"dtype\": \"number\",\n        \"std\": 39.24449585516159,\n        \"min\": 55.07,\n        \"max\": 215.8,\n        \"num_unique_values\": 3857,\n        \"samples\": [\n          130.15\n        ],\n        \"semantic_type\": \"\",\n        \"description\": \"\"\n      }\n    },\n    {\n      \"column\": \"Volume\",\n      \"properties\": {\n        \"dtype\": \"number\",\n        \"std\": 3333959.052305383,\n        \"min\": 192843.0,\n        \"max\": 41207300.0,\n        \"num_unique_values\": 4728,\n        \"samples\": [\n          5784300.0\n        ],\n        \"semantic_type\": \"\",\n        \"description\": \"\"\n      }\n    }\n  ]\n}"
            }
          },
          "metadata": {},
          "execution_count": 60
        }
      ]
    },
    {
      "cell_type": "code",
      "source": [
        "df.tail(5)"
      ],
      "metadata": {
        "colab": {
          "base_uri": "https://localhost:8080/",
          "height": 206
        },
        "id": "5sUmLUJAH3Jm",
        "outputId": "d0e479d8-c161-421d-ba9f-826bd0d0e973"
      },
      "execution_count": 61,
      "outputs": [
        {
          "output_type": "execute_result",
          "data": {
            "text/plain": [
              "     Date_point                                  Name   Open   High    Low  \\\n",
              "4817 1999-11-05  International Business Machines Corp  92.75  92.94  90.19   \n",
              "4818 1999-11-04  International Business Machines Corp  94.44  94.44  90.00   \n",
              "4819 1999-11-03  International Business Machines Corp  95.87  95.94  93.50   \n",
              "4820 1999-11-02  International Business Machines Corp  96.75  96.81  93.69   \n",
              "4821 1999-11-01  International Business Machines Corp  98.50  98.81  96.37   \n",
              "\n",
              "      Close      Volume  \n",
              "4817  90.25  13737600.0  \n",
              "4818  91.56  16697600.0  \n",
              "4819  94.37  10369100.0  \n",
              "4820  94.81  11105400.0  \n",
              "4821  96.75   9551800.0  "
            ],
            "text/html": [
              "\n",
              "  <div id=\"df-842cd3e4-e854-4328-b975-fa3b74f007e7\" class=\"colab-df-container\">\n",
              "    <div>\n",
              "<style scoped>\n",
              "    .dataframe tbody tr th:only-of-type {\n",
              "        vertical-align: middle;\n",
              "    }\n",
              "\n",
              "    .dataframe tbody tr th {\n",
              "        vertical-align: top;\n",
              "    }\n",
              "\n",
              "    .dataframe thead th {\n",
              "        text-align: right;\n",
              "    }\n",
              "</style>\n",
              "<table border=\"1\" class=\"dataframe\">\n",
              "  <thead>\n",
              "    <tr style=\"text-align: right;\">\n",
              "      <th></th>\n",
              "      <th>Date_point</th>\n",
              "      <th>Name</th>\n",
              "      <th>Open</th>\n",
              "      <th>High</th>\n",
              "      <th>Low</th>\n",
              "      <th>Close</th>\n",
              "      <th>Volume</th>\n",
              "    </tr>\n",
              "  </thead>\n",
              "  <tbody>\n",
              "    <tr>\n",
              "      <th>4817</th>\n",
              "      <td>1999-11-05</td>\n",
              "      <td>International Business Machines Corp</td>\n",
              "      <td>92.75</td>\n",
              "      <td>92.94</td>\n",
              "      <td>90.19</td>\n",
              "      <td>90.25</td>\n",
              "      <td>13737600.0</td>\n",
              "    </tr>\n",
              "    <tr>\n",
              "      <th>4818</th>\n",
              "      <td>1999-11-04</td>\n",
              "      <td>International Business Machines Corp</td>\n",
              "      <td>94.44</td>\n",
              "      <td>94.44</td>\n",
              "      <td>90.00</td>\n",
              "      <td>91.56</td>\n",
              "      <td>16697600.0</td>\n",
              "    </tr>\n",
              "    <tr>\n",
              "      <th>4819</th>\n",
              "      <td>1999-11-03</td>\n",
              "      <td>International Business Machines Corp</td>\n",
              "      <td>95.87</td>\n",
              "      <td>95.94</td>\n",
              "      <td>93.50</td>\n",
              "      <td>94.37</td>\n",
              "      <td>10369100.0</td>\n",
              "    </tr>\n",
              "    <tr>\n",
              "      <th>4820</th>\n",
              "      <td>1999-11-02</td>\n",
              "      <td>International Business Machines Corp</td>\n",
              "      <td>96.75</td>\n",
              "      <td>96.81</td>\n",
              "      <td>93.69</td>\n",
              "      <td>94.81</td>\n",
              "      <td>11105400.0</td>\n",
              "    </tr>\n",
              "    <tr>\n",
              "      <th>4821</th>\n",
              "      <td>1999-11-01</td>\n",
              "      <td>International Business Machines Corp</td>\n",
              "      <td>98.50</td>\n",
              "      <td>98.81</td>\n",
              "      <td>96.37</td>\n",
              "      <td>96.75</td>\n",
              "      <td>9551800.0</td>\n",
              "    </tr>\n",
              "  </tbody>\n",
              "</table>\n",
              "</div>\n",
              "    <div class=\"colab-df-buttons\">\n",
              "\n",
              "  <div class=\"colab-df-container\">\n",
              "    <button class=\"colab-df-convert\" onclick=\"convertToInteractive('df-842cd3e4-e854-4328-b975-fa3b74f007e7')\"\n",
              "            title=\"Convert this dataframe to an interactive table.\"\n",
              "            style=\"display:none;\">\n",
              "\n",
              "  <svg xmlns=\"http://www.w3.org/2000/svg\" height=\"24px\" viewBox=\"0 -960 960 960\">\n",
              "    <path d=\"M120-120v-720h720v720H120Zm60-500h600v-160H180v160Zm220 220h160v-160H400v160Zm0 220h160v-160H400v160ZM180-400h160v-160H180v160Zm440 0h160v-160H620v160ZM180-180h160v-160H180v160Zm440 0h160v-160H620v160Z\"/>\n",
              "  </svg>\n",
              "    </button>\n",
              "\n",
              "  <style>\n",
              "    .colab-df-container {\n",
              "      display:flex;\n",
              "      gap: 12px;\n",
              "    }\n",
              "\n",
              "    .colab-df-convert {\n",
              "      background-color: #E8F0FE;\n",
              "      border: none;\n",
              "      border-radius: 50%;\n",
              "      cursor: pointer;\n",
              "      display: none;\n",
              "      fill: #1967D2;\n",
              "      height: 32px;\n",
              "      padding: 0 0 0 0;\n",
              "      width: 32px;\n",
              "    }\n",
              "\n",
              "    .colab-df-convert:hover {\n",
              "      background-color: #E2EBFA;\n",
              "      box-shadow: 0px 1px 2px rgba(60, 64, 67, 0.3), 0px 1px 3px 1px rgba(60, 64, 67, 0.15);\n",
              "      fill: #174EA6;\n",
              "    }\n",
              "\n",
              "    .colab-df-buttons div {\n",
              "      margin-bottom: 4px;\n",
              "    }\n",
              "\n",
              "    [theme=dark] .colab-df-convert {\n",
              "      background-color: #3B4455;\n",
              "      fill: #D2E3FC;\n",
              "    }\n",
              "\n",
              "    [theme=dark] .colab-df-convert:hover {\n",
              "      background-color: #434B5C;\n",
              "      box-shadow: 0px 1px 3px 1px rgba(0, 0, 0, 0.15);\n",
              "      filter: drop-shadow(0px 1px 2px rgba(0, 0, 0, 0.3));\n",
              "      fill: #FFFFFF;\n",
              "    }\n",
              "  </style>\n",
              "\n",
              "    <script>\n",
              "      const buttonEl =\n",
              "        document.querySelector('#df-842cd3e4-e854-4328-b975-fa3b74f007e7 button.colab-df-convert');\n",
              "      buttonEl.style.display =\n",
              "        google.colab.kernel.accessAllowed ? 'block' : 'none';\n",
              "\n",
              "      async function convertToInteractive(key) {\n",
              "        const element = document.querySelector('#df-842cd3e4-e854-4328-b975-fa3b74f007e7');\n",
              "        const dataTable =\n",
              "          await google.colab.kernel.invokeFunction('convertToInteractive',\n",
              "                                                    [key], {});\n",
              "        if (!dataTable) return;\n",
              "\n",
              "        const docLinkHtml = 'Like what you see? Visit the ' +\n",
              "          '<a target=\"_blank\" href=https://colab.research.google.com/notebooks/data_table.ipynb>data table notebook</a>'\n",
              "          + ' to learn more about interactive tables.';\n",
              "        element.innerHTML = '';\n",
              "        dataTable['output_type'] = 'display_data';\n",
              "        await google.colab.output.renderOutput(dataTable, element);\n",
              "        const docLink = document.createElement('div');\n",
              "        docLink.innerHTML = docLinkHtml;\n",
              "        element.appendChild(docLink);\n",
              "      }\n",
              "    </script>\n",
              "  </div>\n",
              "\n",
              "\n",
              "<div id=\"df-429c5c2d-59de-43a9-8dff-b7807f701423\">\n",
              "  <button class=\"colab-df-quickchart\" onclick=\"quickchart('df-429c5c2d-59de-43a9-8dff-b7807f701423')\"\n",
              "            title=\"Suggest charts\"\n",
              "            style=\"display:none;\">\n",
              "\n",
              "<svg xmlns=\"http://www.w3.org/2000/svg\" height=\"24px\"viewBox=\"0 0 24 24\"\n",
              "     width=\"24px\">\n",
              "    <g>\n",
              "        <path d=\"M19 3H5c-1.1 0-2 .9-2 2v14c0 1.1.9 2 2 2h14c1.1 0 2-.9 2-2V5c0-1.1-.9-2-2-2zM9 17H7v-7h2v7zm4 0h-2V7h2v10zm4 0h-2v-4h2v4z\"/>\n",
              "    </g>\n",
              "</svg>\n",
              "  </button>\n",
              "\n",
              "<style>\n",
              "  .colab-df-quickchart {\n",
              "      --bg-color: #E8F0FE;\n",
              "      --fill-color: #1967D2;\n",
              "      --hover-bg-color: #E2EBFA;\n",
              "      --hover-fill-color: #174EA6;\n",
              "      --disabled-fill-color: #AAA;\n",
              "      --disabled-bg-color: #DDD;\n",
              "  }\n",
              "\n",
              "  [theme=dark] .colab-df-quickchart {\n",
              "      --bg-color: #3B4455;\n",
              "      --fill-color: #D2E3FC;\n",
              "      --hover-bg-color: #434B5C;\n",
              "      --hover-fill-color: #FFFFFF;\n",
              "      --disabled-bg-color: #3B4455;\n",
              "      --disabled-fill-color: #666;\n",
              "  }\n",
              "\n",
              "  .colab-df-quickchart {\n",
              "    background-color: var(--bg-color);\n",
              "    border: none;\n",
              "    border-radius: 50%;\n",
              "    cursor: pointer;\n",
              "    display: none;\n",
              "    fill: var(--fill-color);\n",
              "    height: 32px;\n",
              "    padding: 0;\n",
              "    width: 32px;\n",
              "  }\n",
              "\n",
              "  .colab-df-quickchart:hover {\n",
              "    background-color: var(--hover-bg-color);\n",
              "    box-shadow: 0 1px 2px rgba(60, 64, 67, 0.3), 0 1px 3px 1px rgba(60, 64, 67, 0.15);\n",
              "    fill: var(--button-hover-fill-color);\n",
              "  }\n",
              "\n",
              "  .colab-df-quickchart-complete:disabled,\n",
              "  .colab-df-quickchart-complete:disabled:hover {\n",
              "    background-color: var(--disabled-bg-color);\n",
              "    fill: var(--disabled-fill-color);\n",
              "    box-shadow: none;\n",
              "  }\n",
              "\n",
              "  .colab-df-spinner {\n",
              "    border: 2px solid var(--fill-color);\n",
              "    border-color: transparent;\n",
              "    border-bottom-color: var(--fill-color);\n",
              "    animation:\n",
              "      spin 1s steps(1) infinite;\n",
              "  }\n",
              "\n",
              "  @keyframes spin {\n",
              "    0% {\n",
              "      border-color: transparent;\n",
              "      border-bottom-color: var(--fill-color);\n",
              "      border-left-color: var(--fill-color);\n",
              "    }\n",
              "    20% {\n",
              "      border-color: transparent;\n",
              "      border-left-color: var(--fill-color);\n",
              "      border-top-color: var(--fill-color);\n",
              "    }\n",
              "    30% {\n",
              "      border-color: transparent;\n",
              "      border-left-color: var(--fill-color);\n",
              "      border-top-color: var(--fill-color);\n",
              "      border-right-color: var(--fill-color);\n",
              "    }\n",
              "    40% {\n",
              "      border-color: transparent;\n",
              "      border-right-color: var(--fill-color);\n",
              "      border-top-color: var(--fill-color);\n",
              "    }\n",
              "    60% {\n",
              "      border-color: transparent;\n",
              "      border-right-color: var(--fill-color);\n",
              "    }\n",
              "    80% {\n",
              "      border-color: transparent;\n",
              "      border-right-color: var(--fill-color);\n",
              "      border-bottom-color: var(--fill-color);\n",
              "    }\n",
              "    90% {\n",
              "      border-color: transparent;\n",
              "      border-bottom-color: var(--fill-color);\n",
              "    }\n",
              "  }\n",
              "</style>\n",
              "\n",
              "  <script>\n",
              "    async function quickchart(key) {\n",
              "      const quickchartButtonEl =\n",
              "        document.querySelector('#' + key + ' button');\n",
              "      quickchartButtonEl.disabled = true;  // To prevent multiple clicks.\n",
              "      quickchartButtonEl.classList.add('colab-df-spinner');\n",
              "      try {\n",
              "        const charts = await google.colab.kernel.invokeFunction(\n",
              "            'suggestCharts', [key], {});\n",
              "      } catch (error) {\n",
              "        console.error('Error during call to suggestCharts:', error);\n",
              "      }\n",
              "      quickchartButtonEl.classList.remove('colab-df-spinner');\n",
              "      quickchartButtonEl.classList.add('colab-df-quickchart-complete');\n",
              "    }\n",
              "    (() => {\n",
              "      let quickchartButtonEl =\n",
              "        document.querySelector('#df-429c5c2d-59de-43a9-8dff-b7807f701423 button');\n",
              "      quickchartButtonEl.style.display =\n",
              "        google.colab.kernel.accessAllowed ? 'block' : 'none';\n",
              "    })();\n",
              "  </script>\n",
              "</div>\n",
              "    </div>\n",
              "  </div>\n"
            ],
            "application/vnd.google.colaboratory.intrinsic+json": {
              "type": "dataframe",
              "summary": "{\n  \"name\": \"df\",\n  \"rows\": 5,\n  \"fields\": [\n    {\n      \"column\": \"Date_point\",\n      \"properties\": {\n        \"dtype\": \"date\",\n        \"min\": \"1999-11-01 00:00:00\",\n        \"max\": \"1999-11-05 00:00:00\",\n        \"num_unique_values\": 5,\n        \"samples\": [\n          \"1999-11-04 00:00:00\",\n          \"1999-11-01 00:00:00\",\n          \"1999-11-03 00:00:00\"\n        ],\n        \"semantic_type\": \"\",\n        \"description\": \"\"\n      }\n    },\n    {\n      \"column\": \"Name\",\n      \"properties\": {\n        \"dtype\": \"category\",\n        \"num_unique_values\": 1,\n        \"samples\": [\n          \"International Business Machines Corp\"\n        ],\n        \"semantic_type\": \"\",\n        \"description\": \"\"\n      }\n    },\n    {\n      \"column\": \"Open\",\n      \"properties\": {\n        \"dtype\": \"number\",\n        \"std\": 2.193984958927477,\n        \"min\": 92.75,\n        \"max\": 98.5,\n        \"num_unique_values\": 5,\n        \"samples\": [\n          94.44\n        ],\n        \"semantic_type\": \"\",\n        \"description\": \"\"\n      }\n    },\n    {\n      \"column\": \"High\",\n      \"properties\": {\n        \"dtype\": \"number\",\n        \"std\": 2.2432275854223995,\n        \"min\": 92.94,\n        \"max\": 98.81,\n        \"num_unique_values\": 5,\n        \"samples\": [\n          94.44\n        ],\n        \"semantic_type\": \"\",\n        \"description\": \"\"\n      }\n    },\n    {\n      \"column\": \"Low\",\n      \"properties\": {\n        \"dtype\": \"number\",\n        \"std\": 2.6770599545023286,\n        \"min\": 90.0,\n        \"max\": 96.37,\n        \"num_unique_values\": 5,\n        \"samples\": [\n          90.0\n        ],\n        \"semantic_type\": \"\",\n        \"description\": \"\"\n      }\n    },\n    {\n      \"column\": \"Close\",\n      \"properties\": {\n        \"dtype\": \"number\",\n        \"std\": 2.6148651972902925,\n        \"min\": 90.25,\n        \"max\": 96.75,\n        \"num_unique_values\": 5,\n        \"samples\": [\n          91.56\n        ],\n        \"semantic_type\": \"\",\n        \"description\": \"\"\n      }\n    },\n    {\n      \"column\": \"Volume\",\n      \"properties\": {\n        \"dtype\": \"number\",\n        \"std\": 2920330.900771349,\n        \"min\": 9551800.0,\n        \"max\": 16697600.0,\n        \"num_unique_values\": 5,\n        \"samples\": [\n          16697600.0\n        ],\n        \"semantic_type\": \"\",\n        \"description\": \"\"\n      }\n    }\n  ]\n}"
            }
          },
          "metadata": {},
          "execution_count": 61
        }
      ]
    },
    {
      "cell_type": "code",
      "source": [
        "copy_df = df[['Open', 'High', 'Low', 'Close', 'Volume']]\n",
        "copy_df.shape"
      ],
      "metadata": {
        "colab": {
          "base_uri": "https://localhost:8080/"
        },
        "id": "27OKpAhP80ov",
        "outputId": "3089b249-0e39-4730-aba0-179075309a73"
      },
      "execution_count": 62,
      "outputs": [
        {
          "output_type": "execute_result",
          "data": {
            "text/plain": [
              "(4822, 5)"
            ]
          },
          "metadata": {},
          "execution_count": 62
        }
      ]
    },
    {
      "cell_type": "code",
      "source": [
        "np_ds_scaled = np.reshape(copy_df, (copy_df.shape[0], copy_df.shape[1]))\n",
        "np_ds_scaled = np_ds_scaled[::-1]\n",
        "np_ds_scaled"
      ],
      "metadata": {
        "colab": {
          "base_uri": "https://localhost:8080/"
        },
        "id": "PPSPqEHFqcut",
        "outputId": "a4eaee22-d99d-496b-e3c8-1bac5e16b9c5"
      },
      "execution_count": 63,
      "outputs": [
        {
          "output_type": "execute_result",
          "data": {
            "text/plain": [
              "array([[9.850000e+01, 9.881000e+01, 9.637000e+01, 9.675000e+01,\n",
              "        9.551800e+06],\n",
              "       [9.675000e+01, 9.681000e+01, 9.369000e+01, 9.481000e+01,\n",
              "        1.110540e+07],\n",
              "       [9.587000e+01, 9.594000e+01, 9.350000e+01, 9.437000e+01,\n",
              "        1.036910e+07],\n",
              "       ...,\n",
              "       [1.099900e+02, 1.137800e+02, 1.094700e+02, 1.137800e+02,\n",
              "        6.045590e+06],\n",
              "       [1.142200e+02, 1.148000e+02, 1.125000e+02, 1.130300e+02,\n",
              "        5.117533e+06],\n",
              "       [1.133300e+02, 1.143500e+02, 1.124201e+02, 1.136700e+02,\n",
              "        4.982755e+06]])"
            ]
          },
          "metadata": {},
          "execution_count": 63
        }
      ]
    },
    {
      "cell_type": "markdown",
      "source": [
        "## Обучение модели"
      ],
      "metadata": {
        "id": "TyGP9-Tzb3UI"
      }
    },
    {
      "cell_type": "markdown",
      "source": [
        "### Подготовка к обучению"
      ],
      "metadata": {
        "id": "I9h1nehZb6g9"
      }
    },
    {
      "cell_type": "code",
      "source": [
        "def split_sequence(sequence, n_steps_in, n_steps_out):\n",
        "  X, y = list(), list()\n",
        "  for i in range(len(sequence)):\n",
        "      # find the end of this pattern\n",
        "      end_ix = i + n_steps_in\n",
        "      out_end_ix = end_ix + n_steps_out\n",
        "      # check if we are beyond the sequence\n",
        "      if out_end_ix > len(sequence):\n",
        "        break\n",
        "      # gather input and output parts of the pattern\n",
        "      seq_x, seq_y = sequence[i:end_ix], sequence[end_ix:out_end_ix]\n",
        "      X.append(seq_x)\n",
        "      tmp = [i[-2] for i in seq_y]\n",
        "      y.append(tmp)\n",
        "  return np.array(X), np.array(y)"
      ],
      "metadata": {
        "id": "iCkaidrzi414"
      },
      "execution_count": 64,
      "outputs": []
    },
    {
      "cell_type": "code",
      "source": [
        "n_steps_in, n_steps_out = 40, 90\n",
        "x, y = split_sequence(np_ds_scaled, n_steps_in, n_steps_out)"
      ],
      "metadata": {
        "id": "8f6vPaIti_vH"
      },
      "execution_count": 65,
      "outputs": []
    },
    {
      "cell_type": "code",
      "source": [
        "x = x.reshape((x.shape[0], x.shape[1], 5))"
      ],
      "metadata": {
        "id": "M29gjZJXjRdv"
      },
      "execution_count": 66,
      "outputs": []
    },
    {
      "cell_type": "code",
      "source": [
        "# train_size = int(len(ds_scaled)*0.70)\n",
        "# test_size = len(ds_scaled) - train_size\n",
        "\n",
        "splitlimit = int(len(x)*0.8)\n",
        "x_train, x_test = x[:splitlimit], x[splitlimit:]\n",
        "y_train, y_test = y[:splitlimit], y[splitlimit:]"
      ],
      "metadata": {
        "id": "fEpEIGI0kdMv"
      },
      "execution_count": 67,
      "outputs": []
    },
    {
      "cell_type": "code",
      "source": [
        "from sklearn.preprocessing import MinMaxScaler\n",
        "\n",
        "normalizer1 = MinMaxScaler(feature_range=(0,1))\n",
        "normalizer2 = MinMaxScaler(feature_range=(0,1))\n",
        "\n",
        "x_train_tmp = x_train.reshape(-1, x_train.shape[-1])\n",
        "x_test_tmp = x_test.reshape(-1, x_test.shape[-1])\n",
        "\n",
        "x_train_scaled = normalizer1.fit_transform(x_train_tmp)\n",
        "x_test_scaled = normalizer2.fit_transform(x_test_tmp)\n",
        "\n",
        "x_train = x_train_scaled.reshape(x_train.shape)\n",
        "x_test = x_test_scaled.reshape(x_test.shape)"
      ],
      "metadata": {
        "id": "4SekEvt_qkq1"
      },
      "execution_count": 68,
      "outputs": []
    },
    {
      "cell_type": "markdown",
      "source": [
        "### Обучение модели"
      ],
      "metadata": {
        "id": "Ih0ai_kDb-AB"
      }
    },
    {
      "cell_type": "markdown",
      "source": [
        "#### Модель для IBM"
      ],
      "metadata": {
        "id": "bUoPENM_cWDm"
      }
    },
    {
      "cell_type": "code",
      "source": [
        "model = Sequential()\n",
        "\n",
        "model.add(LSTM(250, activation='relu', return_sequences=True, input_shape=(n_steps_in, 5)))\n",
        "model.add(Dropout(0.2))\n",
        "\n",
        "model.add(LSTM(200, activation='relu', return_sequences=True))\n",
        "model.add(Dropout(0.3))\n",
        "\n",
        "model.add(LSTM(200, activation='relu', return_sequences=True))\n",
        "model.add(Dropout(0.2))\n",
        "\n",
        "model.add(LSTM(150, activation='relu', return_sequences=True))\n",
        "model.add(Dropout(0.2))\n",
        "\n",
        "model.add(LSTM(100, activation='relu'))\n",
        "model.add(Dropout(0.2))\n",
        "\n",
        "model.add(Dense(units=n_steps_out, activation='linear'))\n",
        "\n",
        "model.compile(optimizer='adam', loss='mse')\n",
        "\n",
        "history = model.fit(x_train, y_train, batch_size=15, epochs=60, shuffle=True, validation_split = 0.2)"
      ],
      "metadata": {
        "colab": {
          "base_uri": "https://localhost:8080/"
        },
        "collapsed": true,
        "id": "DX_lysv1jhkv",
        "outputId": "2af5c4bc-6524-42c9-f799-965823206c76"
      },
      "execution_count": 72,
      "outputs": [
        {
          "output_type": "stream",
          "name": "stdout",
          "text": [
            "Epoch 1/60\n",
            "201/201 [==============================] - 34s 145ms/step - loss: 4160893184.0000 - val_loss: 56909.0078\n",
            "Epoch 2/60\n",
            "201/201 [==============================] - 29s 147ms/step - loss: 2612.6907 - val_loss: 384.1785\n",
            "Epoch 3/60\n",
            "201/201 [==============================] - 29s 146ms/step - loss: 760.0545 - val_loss: 494.2050\n",
            "Epoch 4/60\n",
            "201/201 [==============================] - 29s 143ms/step - loss: 620.5889 - val_loss: 309.6855\n",
            "Epoch 5/60\n",
            "201/201 [==============================] - 29s 145ms/step - loss: 631.0406 - val_loss: 657.6804\n",
            "Epoch 6/60\n",
            "201/201 [==============================] - 29s 145ms/step - loss: 614.8704 - val_loss: 1051.4255\n",
            "Epoch 7/60\n",
            "201/201 [==============================] - 29s 144ms/step - loss: 677.5818 - val_loss: 208.1014\n",
            "Epoch 8/60\n",
            "201/201 [==============================] - 29s 146ms/step - loss: 590.1005 - val_loss: 385.7183\n",
            "Epoch 9/60\n",
            "201/201 [==============================] - 29s 146ms/step - loss: 556.2628 - val_loss: 218.1200\n",
            "Epoch 10/60\n",
            "201/201 [==============================] - 28s 142ms/step - loss: 585.2321 - val_loss: 1159.6553\n",
            "Epoch 11/60\n",
            "201/201 [==============================] - 29s 144ms/step - loss: 576.9210 - val_loss: 459.9662\n",
            "Epoch 12/60\n",
            "201/201 [==============================] - 29s 146ms/step - loss: 559.8172 - val_loss: 275.7134\n",
            "Epoch 13/60\n",
            "201/201 [==============================] - 29s 144ms/step - loss: 576.0457 - val_loss: 309.2448\n",
            "Epoch 14/60\n",
            "201/201 [==============================] - 30s 147ms/step - loss: 585.3306 - val_loss: 314.2956\n",
            "Epoch 15/60\n",
            "201/201 [==============================] - 29s 144ms/step - loss: 555.6967 - val_loss: 261.3828\n",
            "Epoch 16/60\n",
            "201/201 [==============================] - 29s 143ms/step - loss: 615.0366 - val_loss: 565.7007\n",
            "Epoch 17/60\n",
            "201/201 [==============================] - 29s 147ms/step - loss: 552.9633 - val_loss: 517.6354\n",
            "Epoch 18/60\n",
            "201/201 [==============================] - 29s 145ms/step - loss: 540.5652 - val_loss: 415.4558\n",
            "Epoch 19/60\n",
            "201/201 [==============================] - 30s 149ms/step - loss: 525.7529 - val_loss: 325.8267\n",
            "Epoch 20/60\n",
            "201/201 [==============================] - 29s 144ms/step - loss: 530.5345 - val_loss: 367.4644\n",
            "Epoch 21/60\n",
            "201/201 [==============================] - 29s 145ms/step - loss: 539.2529 - val_loss: 278.6731\n",
            "Epoch 22/60\n",
            "201/201 [==============================] - 29s 145ms/step - loss: 488.2274 - val_loss: 307.2859\n",
            "Epoch 23/60\n",
            "201/201 [==============================] - 29s 145ms/step - loss: 487.9245 - val_loss: 751.1238\n",
            "Epoch 24/60\n",
            "201/201 [==============================] - 29s 145ms/step - loss: 538.9289 - val_loss: 291.4438\n",
            "Epoch 25/60\n",
            "201/201 [==============================] - 29s 146ms/step - loss: 490.1428 - val_loss: 366.4729\n",
            "Epoch 26/60\n",
            "201/201 [==============================] - 29s 144ms/step - loss: 500.2484 - val_loss: 418.3283\n",
            "Epoch 27/60\n",
            "201/201 [==============================] - 29s 142ms/step - loss: 492.9081 - val_loss: 322.0451\n",
            "Epoch 28/60\n",
            "201/201 [==============================] - 29s 145ms/step - loss: 505.4640 - val_loss: 825.2637\n",
            "Epoch 29/60\n",
            "201/201 [==============================] - 28s 141ms/step - loss: 558.3103 - val_loss: 354.6801\n",
            "Epoch 30/60\n",
            "201/201 [==============================] - 30s 149ms/step - loss: 503.1276 - val_loss: 363.4999\n",
            "Epoch 31/60\n",
            "201/201 [==============================] - 29s 146ms/step - loss: 546.1536 - val_loss: 726.6949\n",
            "Epoch 32/60\n",
            "201/201 [==============================] - 28s 142ms/step - loss: 492.9767 - val_loss: 414.6569\n",
            "Epoch 33/60\n",
            "201/201 [==============================] - 29s 146ms/step - loss: 492.1270 - val_loss: 236.9258\n",
            "Epoch 34/60\n",
            "201/201 [==============================] - 29s 145ms/step - loss: 487.9778 - val_loss: 285.1858\n",
            "Epoch 35/60\n",
            "201/201 [==============================] - 29s 142ms/step - loss: 488.6454 - val_loss: 230.5580\n",
            "Epoch 36/60\n",
            "201/201 [==============================] - 29s 143ms/step - loss: 499.4072 - val_loss: 271.6305\n",
            "Epoch 37/60\n",
            "201/201 [==============================] - 29s 145ms/step - loss: 503.3754 - val_loss: 280.4209\n",
            "Epoch 38/60\n",
            "201/201 [==============================] - 29s 143ms/step - loss: 472.2651 - val_loss: 220.5471\n",
            "Epoch 39/60\n",
            "201/201 [==============================] - 29s 145ms/step - loss: 471.4307 - val_loss: 292.3257\n",
            "Epoch 40/60\n",
            "201/201 [==============================] - 30s 148ms/step - loss: 474.6148 - val_loss: 425.5788\n",
            "Epoch 41/60\n",
            "201/201 [==============================] - 30s 147ms/step - loss: 482.7591 - val_loss: 1079.0664\n",
            "Epoch 42/60\n",
            "201/201 [==============================] - 30s 147ms/step - loss: 481.0107 - val_loss: 227.1805\n",
            "Epoch 43/60\n",
            "201/201 [==============================] - 29s 146ms/step - loss: 556.8018 - val_loss: 418.3152\n",
            "Epoch 44/60\n",
            "201/201 [==============================] - 29s 144ms/step - loss: 461.6802 - val_loss: 279.0106\n",
            "Epoch 45/60\n",
            "201/201 [==============================] - 28s 141ms/step - loss: 463.1129 - val_loss: 193.0272\n",
            "Epoch 46/60\n",
            "201/201 [==============================] - 28s 140ms/step - loss: 461.9251 - val_loss: 346.3502\n",
            "Epoch 47/60\n",
            "201/201 [==============================] - 28s 138ms/step - loss: 465.4275 - val_loss: 299.9160\n",
            "Epoch 48/60\n",
            "201/201 [==============================] - 29s 145ms/step - loss: 454.3008 - val_loss: 356.5469\n",
            "Epoch 49/60\n",
            "201/201 [==============================] - 29s 143ms/step - loss: 436.3046 - val_loss: 349.2155\n",
            "Epoch 50/60\n",
            "201/201 [==============================] - 29s 145ms/step - loss: 441.9978 - val_loss: 690.6904\n",
            "Epoch 51/60\n",
            "201/201 [==============================] - 30s 147ms/step - loss: 452.3265 - val_loss: 422.2025\n",
            "Epoch 52/60\n",
            "201/201 [==============================] - 29s 142ms/step - loss: 446.7962 - val_loss: 287.1450\n",
            "Epoch 53/60\n",
            "201/201 [==============================] - 29s 143ms/step - loss: 429.4354 - val_loss: 430.1198\n",
            "Epoch 54/60\n",
            "201/201 [==============================] - 29s 142ms/step - loss: 407.9276 - val_loss: 264.3972\n",
            "Epoch 55/60\n",
            "201/201 [==============================] - 29s 145ms/step - loss: 426.2118 - val_loss: 291.6378\n",
            "Epoch 56/60\n",
            "201/201 [==============================] - 29s 146ms/step - loss: 433.5751 - val_loss: 1061.8824\n",
            "Epoch 57/60\n",
            "201/201 [==============================] - 29s 143ms/step - loss: 492.5365 - val_loss: 181.5783\n",
            "Epoch 58/60\n",
            "201/201 [==============================] - 29s 144ms/step - loss: 424.2970 - val_loss: 276.8694\n",
            "Epoch 59/60\n",
            "201/201 [==============================] - 29s 146ms/step - loss: 415.4926 - val_loss: 216.1140\n",
            "Epoch 60/60\n",
            "201/201 [==============================] - 29s 145ms/step - loss: 438.0883 - val_loss: 819.4119\n"
          ]
        }
      ]
    },
    {
      "cell_type": "markdown",
      "source": [
        "## Результаты"
      ],
      "metadata": {
        "id": "ldZx9eLlcCDx"
      }
    },
    {
      "cell_type": "markdown",
      "source": [
        "### Результаты для IBM"
      ],
      "metadata": {
        "id": "jjd6jxFAcN_V"
      }
    },
    {
      "cell_type": "code",
      "source": [
        "predict = model.predict(x_test)\n",
        "predict"
      ],
      "metadata": {
        "colab": {
          "base_uri": "https://localhost:8080/"
        },
        "id": "RXf8DKmBj0EG",
        "outputId": "6df2c484-603d-4a00-bc0d-e648e8e0f074"
      },
      "execution_count": 73,
      "outputs": [
        {
          "output_type": "stream",
          "name": "stdout",
          "text": [
            "30/30 [==============================] - 3s 78ms/step\n"
          ]
        },
        {
          "output_type": "execute_result",
          "data": {
            "text/plain": [
              "array([[187.13466 , 186.17651 , 189.35567 , ..., 192.22723 , 193.06573 ,\n",
              "        189.91228 ],\n",
              "       [185.01985 , 184.22049 , 187.42786 , ..., 190.13014 , 191.11105 ,\n",
              "        187.9956  ],\n",
              "       [182.09933 , 181.4907  , 184.78307 , ..., 187.23528 , 188.43167 ,\n",
              "        185.33472 ],\n",
              "       ...,\n",
              "       [103.955185, 103.800415, 103.46153 , ..., 105.61159 , 105.86517 ,\n",
              "        106.51098 ],\n",
              "       [104.22279 , 104.04708 , 103.723755, ..., 105.88839 , 106.12563 ,\n",
              "        106.7568  ],\n",
              "       [104.43361 , 104.23998 , 103.89858 , ..., 106.0855  , 106.29806 ,\n",
              "        106.93169 ]], dtype=float32)"
            ]
          },
          "metadata": {},
          "execution_count": 73
        }
      ]
    },
    {
      "cell_type": "code",
      "source": [
        "y_test"
      ],
      "metadata": {
        "colab": {
          "base_uri": "https://localhost:8080/"
        },
        "id": "I2s8PVnpoRpN",
        "outputId": "162c9d7f-c092-4860-e4e2-f3ca21f2063a"
      },
      "execution_count": 74,
      "outputs": [
        {
          "output_type": "execute_result",
          "data": {
            "text/plain": [
              "array([[161.54, 162.67, 164.52, ..., 161.85, 162.34, 162.86],\n",
              "       [162.67, 164.52, 164.05, ..., 162.34, 162.86, 162.38],\n",
              "       [164.52, 164.05, 163.27, ..., 162.86, 162.38, 162.3 ],\n",
              "       ...,\n",
              "       [146.51, 145.97, 145.24, ..., 107.57, 111.39, 113.78],\n",
              "       [145.97, 145.24, 145.37, ..., 111.39, 113.78, 113.03],\n",
              "       [145.24, 145.37, 146.04, ..., 113.78, 113.03, 113.67]])"
            ]
          },
          "metadata": {},
          "execution_count": 74
        }
      ]
    },
    {
      "cell_type": "code",
      "source": [
        "model.save('/content/LSTM_IBM_NICE.h5')"
      ],
      "metadata": {
        "colab": {
          "base_uri": "https://localhost:8080/"
        },
        "id": "5he9Y_ia0K1D",
        "outputId": "b5d6a8be-b75e-4e39-f8fe-df838e02fbb3"
      },
      "execution_count": 75,
      "outputs": [
        {
          "output_type": "stream",
          "name": "stderr",
          "text": [
            "/usr/local/lib/python3.10/dist-packages/keras/src/engine/training.py:3103: UserWarning: You are saving your model as an HDF5 file via `model.save()`. This file format is considered legacy. We recommend using instead the native Keras format, e.g. `model.save('my_model.keras')`.\n",
            "  saving_api.save_model(\n"
          ]
        }
      ]
    },
    {
      "cell_type": "markdown",
      "source": [
        "### Результаты для Yandex"
      ],
      "metadata": {
        "id": "JMwGWOnrcSJt"
      }
    }
  ]
}